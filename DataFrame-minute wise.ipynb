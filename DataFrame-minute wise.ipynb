{
 "cells": [
  {
   "cell_type": "markdown",
   "metadata": {},
   "source": [
    "# INTRADAY STOCK TRADING PREDICTION USING DEEP LEARNING\n",
    "- **Performed by - Isha Singh**\n",
    "- **Model used - GRU**\n",
    "- **Dataset - Data Frame (minute wise)**\n"
   ]
  },
  {
   "cell_type": "code",
   "execution_count": 1,
   "metadata": {},
   "outputs": [],
   "source": [
    "#importing the required libraries\n",
    "import pandas as pd\n",
    "import numpy as np\n",
    "import matplotlib.pyplot as plt\n",
    "import seaborn as sns\n",
    "%matplotlib inline"
   ]
  },
  {
   "cell_type": "code",
   "execution_count": 2,
   "metadata": {},
   "outputs": [],
   "source": [
    "sns.set_style('darkgrid')"
   ]
  },
  {
   "cell_type": "code",
   "execution_count": 3,
   "metadata": {},
   "outputs": [],
   "source": [
    "#Uploading the dataset\n",
    "data = pd.read_csv('DataFrame.csv',index_col='Date',parse_dates=['Date'])"
   ]
  },
  {
   "cell_type": "code",
   "execution_count": 4,
   "metadata": {},
   "outputs": [
    {
     "data": {
      "text/html": [
       "<div>\n",
       "<style scoped>\n",
       "    .dataframe tbody tr th:only-of-type {\n",
       "        vertical-align: middle;\n",
       "    }\n",
       "\n",
       "    .dataframe tbody tr th {\n",
       "        vertical-align: top;\n",
       "    }\n",
       "\n",
       "    .dataframe thead th {\n",
       "        text-align: right;\n",
       "    }\n",
       "</style>\n",
       "<table border=\"1\" class=\"dataframe\">\n",
       "  <thead>\n",
       "    <tr style=\"text-align: right;\">\n",
       "      <th></th>\n",
       "      <th>Type</th>\n",
       "      <th>Time</th>\n",
       "      <th>open</th>\n",
       "      <th>high</th>\n",
       "      <th>low</th>\n",
       "      <th>close</th>\n",
       "      <th>Unnamed: 7</th>\n",
       "    </tr>\n",
       "    <tr>\n",
       "      <th>Date</th>\n",
       "      <th></th>\n",
       "      <th></th>\n",
       "      <th></th>\n",
       "      <th></th>\n",
       "      <th></th>\n",
       "      <th></th>\n",
       "      <th></th>\n",
       "    </tr>\n",
       "  </thead>\n",
       "  <tbody>\n",
       "    <tr>\n",
       "      <th>2021-01-01</th>\n",
       "      <td>NIFTY</td>\n",
       "      <td>09:16</td>\n",
       "      <td>13997.90</td>\n",
       "      <td>14020.85</td>\n",
       "      <td>13991.35</td>\n",
       "      <td>14013.15</td>\n",
       "      <td>NaN</td>\n",
       "    </tr>\n",
       "    <tr>\n",
       "      <th>2021-01-01</th>\n",
       "      <td>NIFTY</td>\n",
       "      <td>09:17</td>\n",
       "      <td>14014.85</td>\n",
       "      <td>14018.55</td>\n",
       "      <td>14008.15</td>\n",
       "      <td>14009.05</td>\n",
       "      <td>NaN</td>\n",
       "    </tr>\n",
       "    <tr>\n",
       "      <th>2021-01-01</th>\n",
       "      <td>NIFTY</td>\n",
       "      <td>09:18</td>\n",
       "      <td>14008.05</td>\n",
       "      <td>14013.10</td>\n",
       "      <td>14005.05</td>\n",
       "      <td>14012.70</td>\n",
       "      <td>NaN</td>\n",
       "    </tr>\n",
       "    <tr>\n",
       "      <th>2021-01-01</th>\n",
       "      <td>NIFTY</td>\n",
       "      <td>09:19</td>\n",
       "      <td>14013.65</td>\n",
       "      <td>14019.10</td>\n",
       "      <td>14013.65</td>\n",
       "      <td>14016.20</td>\n",
       "      <td>NaN</td>\n",
       "    </tr>\n",
       "    <tr>\n",
       "      <th>2021-01-01</th>\n",
       "      <td>NIFTY</td>\n",
       "      <td>09:20</td>\n",
       "      <td>14015.45</td>\n",
       "      <td>14017.80</td>\n",
       "      <td>14011.95</td>\n",
       "      <td>14015.45</td>\n",
       "      <td>NaN</td>\n",
       "    </tr>\n",
       "  </tbody>\n",
       "</table>\n",
       "</div>"
      ],
      "text/plain": [
       "             Type   Time      open      high       low     close  Unnamed: 7\n",
       "Date                                                                        \n",
       "2021-01-01  NIFTY  09:16  13997.90  14020.85  13991.35  14013.15         NaN\n",
       "2021-01-01  NIFTY  09:17  14014.85  14018.55  14008.15  14009.05         NaN\n",
       "2021-01-01  NIFTY  09:18  14008.05  14013.10  14005.05  14012.70         NaN\n",
       "2021-01-01  NIFTY  09:19  14013.65  14019.10  14013.65  14016.20         NaN\n",
       "2021-01-01  NIFTY  09:20  14015.45  14017.80  14011.95  14015.45         NaN"
      ]
     },
     "execution_count": 4,
     "metadata": {},
     "output_type": "execute_result"
    }
   ],
   "source": [
    "data.head()"
   ]
  },
  {
   "cell_type": "code",
   "execution_count": 5,
   "metadata": {},
   "outputs": [
    {
     "name": "stdout",
     "output_type": "stream",
     "text": [
      "<class 'pandas.core.frame.DataFrame'>\n",
      "DatetimeIndex: 22805 entries, 2021-01-01 to 2021-03-31\n",
      "Data columns (total 7 columns):\n",
      " #   Column      Non-Null Count  Dtype  \n",
      "---  ------      --------------  -----  \n",
      " 0   Type        22805 non-null  object \n",
      " 1   Time        22805 non-null  object \n",
      " 2   open        22805 non-null  float64\n",
      " 3   high        22805 non-null  float64\n",
      " 4   low         22805 non-null  float64\n",
      " 5   close       22805 non-null  float64\n",
      " 6   Unnamed: 7  0 non-null      float64\n",
      "dtypes: float64(5), object(2)\n",
      "memory usage: 1.4+ MB\n"
     ]
    }
   ],
   "source": [
    "data.info()"
   ]
  },
  {
   "cell_type": "markdown",
   "metadata": {},
   "source": [
    "## Dropping unnecessary column\n",
    "We see that the **'Unnamed: 7'** column contains no values and is unnecessay, Hence we drop it."
   ]
  },
  {
   "cell_type": "code",
   "execution_count": 6,
   "metadata": {},
   "outputs": [],
   "source": [
    "data.drop('Unnamed: 7',inplace=True,axis=1)"
   ]
  },
  {
   "cell_type": "code",
   "execution_count": 7,
   "metadata": {},
   "outputs": [
    {
     "data": {
      "text/plain": [
       "1"
      ]
     },
     "execution_count": 7,
     "metadata": {},
     "output_type": "execute_result"
    }
   ],
   "source": [
    "data['Type'].nunique()"
   ]
  },
  {
   "cell_type": "markdown",
   "metadata": {},
   "source": [
    "We see that there is **only one unique value in the Type column i.e. NIFTY.** So we don't need that for our analysis. Hence, we drop it."
   ]
  },
  {
   "cell_type": "code",
   "execution_count": 8,
   "metadata": {},
   "outputs": [],
   "source": [
    "data.drop('Type',inplace=True,axis=1)"
   ]
  },
  {
   "cell_type": "markdown",
   "metadata": {},
   "source": [
    "## Summary of the data"
   ]
  },
  {
   "cell_type": "code",
   "execution_count": 9,
   "metadata": {},
   "outputs": [
    {
     "data": {
      "text/html": [
       "<div>\n",
       "<style scoped>\n",
       "    .dataframe tbody tr th:only-of-type {\n",
       "        vertical-align: middle;\n",
       "    }\n",
       "\n",
       "    .dataframe tbody tr th {\n",
       "        vertical-align: top;\n",
       "    }\n",
       "\n",
       "    .dataframe thead th {\n",
       "        text-align: right;\n",
       "    }\n",
       "</style>\n",
       "<table border=\"1\" class=\"dataframe\">\n",
       "  <thead>\n",
       "    <tr style=\"text-align: right;\">\n",
       "      <th></th>\n",
       "      <th>open</th>\n",
       "      <th>high</th>\n",
       "      <th>low</th>\n",
       "      <th>close</th>\n",
       "    </tr>\n",
       "  </thead>\n",
       "  <tbody>\n",
       "    <tr>\n",
       "      <th>count</th>\n",
       "      <td>22805.000000</td>\n",
       "      <td>22805.000000</td>\n",
       "      <td>22805.000000</td>\n",
       "      <td>22805.000000</td>\n",
       "    </tr>\n",
       "    <tr>\n",
       "      <th>mean</th>\n",
       "      <td>14703.322396</td>\n",
       "      <td>14707.486481</td>\n",
       "      <td>14699.102201</td>\n",
       "      <td>14703.260816</td>\n",
       "    </tr>\n",
       "    <tr>\n",
       "      <th>std</th>\n",
       "      <td>391.377498</td>\n",
       "      <td>391.265231</td>\n",
       "      <td>391.551643</td>\n",
       "      <td>391.366248</td>\n",
       "    </tr>\n",
       "    <tr>\n",
       "      <th>min</th>\n",
       "      <td>13604.750000</td>\n",
       "      <td>13614.400000</td>\n",
       "      <td>13596.750000</td>\n",
       "      <td>13602.800000</td>\n",
       "    </tr>\n",
       "    <tr>\n",
       "      <th>25%</th>\n",
       "      <td>14462.250000</td>\n",
       "      <td>14465.950000</td>\n",
       "      <td>14458.050000</td>\n",
       "      <td>14461.950000</td>\n",
       "    </tr>\n",
       "    <tr>\n",
       "      <th>50%</th>\n",
       "      <td>14739.500000</td>\n",
       "      <td>14743.000000</td>\n",
       "      <td>14735.850000</td>\n",
       "      <td>14739.450000</td>\n",
       "    </tr>\n",
       "    <tr>\n",
       "      <th>75%</th>\n",
       "      <td>15037.000000</td>\n",
       "      <td>15041.250000</td>\n",
       "      <td>15032.500000</td>\n",
       "      <td>15036.850000</td>\n",
       "    </tr>\n",
       "    <tr>\n",
       "      <th>max</th>\n",
       "      <td>15429.500000</td>\n",
       "      <td>15431.750000</td>\n",
       "      <td>15427.900000</td>\n",
       "      <td>15430.200000</td>\n",
       "    </tr>\n",
       "  </tbody>\n",
       "</table>\n",
       "</div>"
      ],
      "text/plain": [
       "               open          high           low         close\n",
       "count  22805.000000  22805.000000  22805.000000  22805.000000\n",
       "mean   14703.322396  14707.486481  14699.102201  14703.260816\n",
       "std      391.377498    391.265231    391.551643    391.366248\n",
       "min    13604.750000  13614.400000  13596.750000  13602.800000\n",
       "25%    14462.250000  14465.950000  14458.050000  14461.950000\n",
       "50%    14739.500000  14743.000000  14735.850000  14739.450000\n",
       "75%    15037.000000  15041.250000  15032.500000  15036.850000\n",
       "max    15429.500000  15431.750000  15427.900000  15430.200000"
      ]
     },
     "execution_count": 9,
     "metadata": {},
     "output_type": "execute_result"
    }
   ],
   "source": [
    "data.describe()"
   ]
  },
  {
   "cell_type": "markdown",
   "metadata": {},
   "source": [
    "## Checking for null values"
   ]
  },
  {
   "cell_type": "code",
   "execution_count": 10,
   "metadata": {},
   "outputs": [
    {
     "data": {
      "text/plain": [
       "Time     0\n",
       "open     0\n",
       "high     0\n",
       "low      0\n",
       "close    0\n",
       "dtype: int64"
      ]
     },
     "execution_count": 10,
     "metadata": {},
     "output_type": "execute_result"
    }
   ],
   "source": [
    "data.isnull().sum()"
   ]
  },
  {
   "cell_type": "markdown",
   "metadata": {},
   "source": [
    "## Checking for duplicate values"
   ]
  },
  {
   "cell_type": "code",
   "execution_count": 11,
   "metadata": {},
   "outputs": [
    {
     "data": {
      "text/plain": [
       "0"
      ]
     },
     "execution_count": 11,
     "metadata": {},
     "output_type": "execute_result"
    }
   ],
   "source": [
    "data.duplicated().sum()"
   ]
  },
  {
   "cell_type": "code",
   "execution_count": 12,
   "metadata": {},
   "outputs": [
    {
     "data": {
      "text/plain": [
       "(22805, 5)"
      ]
     },
     "execution_count": 12,
     "metadata": {},
     "output_type": "execute_result"
    }
   ],
   "source": [
    "data.shape"
   ]
  },
  {
   "cell_type": "markdown",
   "metadata": {},
   "source": [
    "## Checking the type of the data"
   ]
  },
  {
   "cell_type": "code",
   "execution_count": 13,
   "metadata": {},
   "outputs": [
    {
     "data": {
      "text/plain": [
       "str"
      ]
     },
     "execution_count": 13,
     "metadata": {},
     "output_type": "execute_result"
    }
   ],
   "source": [
    "type(data.Time[0])"
   ]
  },
  {
   "cell_type": "code",
   "execution_count": 14,
   "metadata": {},
   "outputs": [],
   "source": [
    "# Converting Time column from str to datetime type\n",
    "data['Hour'] = pd.to_datetime(data['Time']).dt.hour\n",
    "data['month'] = pd.to_datetime(data['Time']).dt.month\n",
    "data['Time'] = pd.to_datetime(data['Time']).dt.time\n"
   ]
  },
  {
   "cell_type": "code",
   "execution_count": 15,
   "metadata": {},
   "outputs": [
    {
     "data": {
      "text/html": [
       "<div>\n",
       "<style scoped>\n",
       "    .dataframe tbody tr th:only-of-type {\n",
       "        vertical-align: middle;\n",
       "    }\n",
       "\n",
       "    .dataframe tbody tr th {\n",
       "        vertical-align: top;\n",
       "    }\n",
       "\n",
       "    .dataframe thead th {\n",
       "        text-align: right;\n",
       "    }\n",
       "</style>\n",
       "<table border=\"1\" class=\"dataframe\">\n",
       "  <thead>\n",
       "    <tr style=\"text-align: right;\">\n",
       "      <th></th>\n",
       "      <th>Time</th>\n",
       "      <th>open</th>\n",
       "      <th>high</th>\n",
       "      <th>low</th>\n",
       "      <th>close</th>\n",
       "      <th>Hour</th>\n",
       "      <th>month</th>\n",
       "    </tr>\n",
       "    <tr>\n",
       "      <th>Date</th>\n",
       "      <th></th>\n",
       "      <th></th>\n",
       "      <th></th>\n",
       "      <th></th>\n",
       "      <th></th>\n",
       "      <th></th>\n",
       "      <th></th>\n",
       "    </tr>\n",
       "  </thead>\n",
       "  <tbody>\n",
       "    <tr>\n",
       "      <th>2021-01-01</th>\n",
       "      <td>09:16:00</td>\n",
       "      <td>13997.90</td>\n",
       "      <td>14020.85</td>\n",
       "      <td>13991.35</td>\n",
       "      <td>14013.15</td>\n",
       "      <td>9</td>\n",
       "      <td>6</td>\n",
       "    </tr>\n",
       "    <tr>\n",
       "      <th>2021-01-01</th>\n",
       "      <td>09:17:00</td>\n",
       "      <td>14014.85</td>\n",
       "      <td>14018.55</td>\n",
       "      <td>14008.15</td>\n",
       "      <td>14009.05</td>\n",
       "      <td>9</td>\n",
       "      <td>6</td>\n",
       "    </tr>\n",
       "    <tr>\n",
       "      <th>2021-01-01</th>\n",
       "      <td>09:18:00</td>\n",
       "      <td>14008.05</td>\n",
       "      <td>14013.10</td>\n",
       "      <td>14005.05</td>\n",
       "      <td>14012.70</td>\n",
       "      <td>9</td>\n",
       "      <td>6</td>\n",
       "    </tr>\n",
       "    <tr>\n",
       "      <th>2021-01-01</th>\n",
       "      <td>09:19:00</td>\n",
       "      <td>14013.65</td>\n",
       "      <td>14019.10</td>\n",
       "      <td>14013.65</td>\n",
       "      <td>14016.20</td>\n",
       "      <td>9</td>\n",
       "      <td>6</td>\n",
       "    </tr>\n",
       "    <tr>\n",
       "      <th>2021-01-01</th>\n",
       "      <td>09:20:00</td>\n",
       "      <td>14015.45</td>\n",
       "      <td>14017.80</td>\n",
       "      <td>14011.95</td>\n",
       "      <td>14015.45</td>\n",
       "      <td>9</td>\n",
       "      <td>6</td>\n",
       "    </tr>\n",
       "    <tr>\n",
       "      <th>...</th>\n",
       "      <td>...</td>\n",
       "      <td>...</td>\n",
       "      <td>...</td>\n",
       "      <td>...</td>\n",
       "      <td>...</td>\n",
       "      <td>...</td>\n",
       "      <td>...</td>\n",
       "    </tr>\n",
       "    <tr>\n",
       "      <th>2021-03-31</th>\n",
       "      <td>15:27:00</td>\n",
       "      <td>14687.35</td>\n",
       "      <td>14694.35</td>\n",
       "      <td>14686.30</td>\n",
       "      <td>14690.60</td>\n",
       "      <td>15</td>\n",
       "      <td>6</td>\n",
       "    </tr>\n",
       "    <tr>\n",
       "      <th>2021-03-31</th>\n",
       "      <td>15:28:00</td>\n",
       "      <td>14690.90</td>\n",
       "      <td>14690.90</td>\n",
       "      <td>14686.05</td>\n",
       "      <td>14689.30</td>\n",
       "      <td>15</td>\n",
       "      <td>6</td>\n",
       "    </tr>\n",
       "    <tr>\n",
       "      <th>2021-03-31</th>\n",
       "      <td>15:29:00</td>\n",
       "      <td>14690.30</td>\n",
       "      <td>14694.10</td>\n",
       "      <td>14688.55</td>\n",
       "      <td>14691.30</td>\n",
       "      <td>15</td>\n",
       "      <td>6</td>\n",
       "    </tr>\n",
       "    <tr>\n",
       "      <th>2021-03-31</th>\n",
       "      <td>15:30:00</td>\n",
       "      <td>14689.85</td>\n",
       "      <td>14693.55</td>\n",
       "      <td>14689.45</td>\n",
       "      <td>14693.05</td>\n",
       "      <td>15</td>\n",
       "      <td>6</td>\n",
       "    </tr>\n",
       "    <tr>\n",
       "      <th>2021-03-31</th>\n",
       "      <td>15:31:00</td>\n",
       "      <td>14690.70</td>\n",
       "      <td>14690.70</td>\n",
       "      <td>14690.70</td>\n",
       "      <td>14690.70</td>\n",
       "      <td>15</td>\n",
       "      <td>6</td>\n",
       "    </tr>\n",
       "  </tbody>\n",
       "</table>\n",
       "<p>22805 rows × 7 columns</p>\n",
       "</div>"
      ],
      "text/plain": [
       "                Time      open      high       low     close  Hour  month\n",
       "Date                                                                     \n",
       "2021-01-01  09:16:00  13997.90  14020.85  13991.35  14013.15     9      6\n",
       "2021-01-01  09:17:00  14014.85  14018.55  14008.15  14009.05     9      6\n",
       "2021-01-01  09:18:00  14008.05  14013.10  14005.05  14012.70     9      6\n",
       "2021-01-01  09:19:00  14013.65  14019.10  14013.65  14016.20     9      6\n",
       "2021-01-01  09:20:00  14015.45  14017.80  14011.95  14015.45     9      6\n",
       "...              ...       ...       ...       ...       ...   ...    ...\n",
       "2021-03-31  15:27:00  14687.35  14694.35  14686.30  14690.60    15      6\n",
       "2021-03-31  15:28:00  14690.90  14690.90  14686.05  14689.30    15      6\n",
       "2021-03-31  15:29:00  14690.30  14694.10  14688.55  14691.30    15      6\n",
       "2021-03-31  15:30:00  14689.85  14693.55  14689.45  14693.05    15      6\n",
       "2021-03-31  15:31:00  14690.70  14690.70  14690.70  14690.70    15      6\n",
       "\n",
       "[22805 rows x 7 columns]"
      ]
     },
     "execution_count": 15,
     "metadata": {},
     "output_type": "execute_result"
    }
   ],
   "source": [
    "data"
   ]
  },
  {
   "cell_type": "markdown",
   "metadata": {},
   "source": [
    "**Again, checking the type of the 'Time' column**"
   ]
  },
  {
   "cell_type": "code",
   "execution_count": 16,
   "metadata": {},
   "outputs": [
    {
     "data": {
      "text/plain": [
       "datetime.time"
      ]
     },
     "execution_count": 16,
     "metadata": {},
     "output_type": "execute_result"
    }
   ],
   "source": [
    "type(data['Time'][0])"
   ]
  },
  {
   "cell_type": "markdown",
   "metadata": {},
   "source": [
    "## Data Visualisation"
   ]
  },
  {
   "cell_type": "code",
   "execution_count": 17,
   "metadata": {},
   "outputs": [
    {
     "data": {
      "image/png": "[encoded data removed]",
      "text/plain": [
       "<Figure size 720x432 with 4 Axes>"
      ]
     },
     "metadata": {},
     "output_type": "display_data"
    }
   ],
   "source": [
    "fig = plt.figure(figsize=(10,6))\n",
    "plt.subplot(221)\n",
    "sns.boxplot(x=data['open'])\n",
    "plt.subplot(222)\n",
    "sns.boxplot(x=data['close'])\n",
    "plt.subplot(223)\n",
    "sns.boxplot(x=data['high'])\n",
    "plt.subplot(224)\n",
    "sns.boxplot(x=data['low'])\n",
    "plt.tight_layout()"
   ]
  },
  {
   "cell_type": "markdown",
   "metadata": {},
   "source": [
    "As we can see from the above graph, **there are no outliers present.**"
   ]
  },
  {
   "cell_type": "code",
   "execution_count": 18,
   "metadata": {},
   "outputs": [
    {
     "name": "stderr",
     "output_type": "stream",
     "text": [
      "C:\\ProgramData\\Anaconda3\\lib\\site-packages\\seaborn\\_decorators.py:36: FutureWarning: Pass the following variables as keyword args: x, y. From version 0.12, the only valid positional argument will be `data`, and passing other arguments without an explicit keyword will result in an error or misinterpretation.\n",
      "  warnings.warn(\n"
     ]
    },
    {
     "data": {
      "text/plain": [
       "<AxesSubplot:xlabel='Date', ylabel='close'>"
      ]
     },
     "execution_count": 18,
     "metadata": {},
     "output_type": "execute_result"
    },
    {
     "data": {
      "image/png": "[encoded data removed]",
      "text/plain": [
       "<Figure size 864x288 with 1 Axes>"
      ]
     },
     "metadata": {},
     "output_type": "display_data"
    }
   ],
   "source": [
    "plt.figure(figsize=(12,4))\n",
    "sns.lineplot(data.index,data['close'],hue=data.index.month)"
   ]
  },
  {
   "cell_type": "code",
   "execution_count": 19,
   "metadata": {},
   "outputs": [
    {
     "name": "stderr",
     "output_type": "stream",
     "text": [
      "C:\\ProgramData\\Anaconda3\\lib\\site-packages\\seaborn\\_decorators.py:36: FutureWarning: Pass the following variables as keyword args: x, y. From version 0.12, the only valid positional argument will be `data`, and passing other arguments without an explicit keyword will result in an error or misinterpretation.\n",
      "  warnings.warn(\n"
     ]
    },
    {
     "data": {
      "text/plain": [
       "<AxesSubplot:xlabel='Date', ylabel='high'>"
      ]
     },
     "execution_count": 19,
     "metadata": {},
     "output_type": "execute_result"
    },
    {
     "data": {
      "image/png": "[encoded data removed]",
      "text/plain": [
       "<Figure size 864x288 with 1 Axes>"
      ]
     },
     "metadata": {},
     "output_type": "display_data"
    }
   ],
   "source": [
    "plt.figure(figsize=(12,4))\n",
    "sns.lineplot(data.index,data['high'],hue=data.index.month)"
   ]
  },
  {
   "cell_type": "code",
   "execution_count": 20,
   "metadata": {},
   "outputs": [
    {
     "name": "stderr",
     "output_type": "stream",
     "text": [
      "C:\\ProgramData\\Anaconda3\\lib\\site-packages\\seaborn\\_decorators.py:36: FutureWarning: Pass the following variables as keyword args: x, y. From version 0.12, the only valid positional argument will be `data`, and passing other arguments without an explicit keyword will result in an error or misinterpretation.\n",
      "  warnings.warn(\n"
     ]
    },
    {
     "data": {
      "text/plain": [
       "<AxesSubplot:xlabel='Date', ylabel='low'>"
      ]
     },
     "execution_count": 20,
     "metadata": {},
     "output_type": "execute_result"
    },
    {
     "data": {
      "image/png": "[encoded data removed]",
      "text/plain": [
       "<Figure size 864x288 with 1 Axes>"
      ]
     },
     "metadata": {},
     "output_type": "display_data"
    }
   ],
   "source": [
    "plt.figure(figsize=(12,4))\n",
    "sns.lineplot(data.index,data['low'],hue=data.index.month)"
   ]
  },
  {
   "cell_type": "markdown",
   "metadata": {},
   "source": [
    "## We can conclude the following from the above graph:\n",
    "1. The closing prices fall at the end of each month and takes a leap at the start of the next month\n",
    "2. The prices reaches peak twice in each month."
   ]
  },
  {
   "cell_type": "code",
   "execution_count": 21,
   "metadata": {},
   "outputs": [
    {
     "name": "stderr",
     "output_type": "stream",
     "text": [
      "C:\\ProgramData\\Anaconda3\\lib\\site-packages\\seaborn\\_decorators.py:36: FutureWarning: Pass the following variables as keyword args: x, y. From version 0.12, the only valid positional argument will be `data`, and passing other arguments without an explicit keyword will result in an error or misinterpretation.\n",
      "  warnings.warn(\n"
     ]
    },
    {
     "data": {
      "text/plain": [
       "<AxesSubplot:xlabel='Date', ylabel='open'>"
      ]
     },
     "execution_count": 21,
     "metadata": {},
     "output_type": "execute_result"
    },
    {
     "data": {
      "image/png": "[encoded data removed]",
      "text/plain": [
       "<Figure size 864x288 with 1 Axes>"
      ]
     },
     "metadata": {},
     "output_type": "display_data"
    }
   ],
   "source": [
    "plt.figure(figsize=(12,4))\n",
    "sns.lineplot(data.index,data['open'],hue=data.index.month)"
   ]
  },
  {
   "cell_type": "markdown",
   "metadata": {},
   "source": [
    "**We see a similar trend in the opening prices.**"
   ]
  },
  {
   "cell_type": "markdown",
   "metadata": {},
   "source": [
    "## Range of the data"
   ]
  },
  {
   "cell_type": "code",
   "execution_count": 22,
   "metadata": {},
   "outputs": [
    {
     "name": "stdout",
     "output_type": "stream",
     "text": [
      "The range of open is : 1824.75\n",
      "The range of high is : 1817.3500000000004\n",
      "The range of low is : 1831.1499999999996\n",
      "The range of close is : 1824.75\n"
     ]
    }
   ],
   "source": [
    "range_open=data['open'].max()-data['open'].min()\n",
    "print(\"The range of open is : {}\".format(range_open))\n",
    "range_high=data['high'].max()-data['high'].min()\n",
    "print(\"The range of high is : {}\".format(range_high))\n",
    "range_low=data['low'].max()-data['low'].min()\n",
    "print(\"The range of low is : {}\".format(range_low))\n",
    "range_close=data['close'].max()-data['close'].min()\n",
    "print(\"The range of close is : {}\".format(range_open))"
   ]
  },
  {
   "cell_type": "markdown",
   "metadata": {},
   "source": [
    "## Correlation of the columns"
   ]
  },
  {
   "cell_type": "code",
   "execution_count": 23,
   "metadata": {},
   "outputs": [],
   "source": [
    "data_corr = data.corr()"
   ]
  },
  {
   "cell_type": "code",
   "execution_count": 24,
   "metadata": {},
   "outputs": [
    {
     "data": {
      "text/plain": [
       "<AxesSubplot:>"
      ]
     },
     "execution_count": 24,
     "metadata": {},
     "output_type": "execute_result"
    },
    {
     "data": {
      "image/png": "[encoded data removed]",
      "text/plain": [
       "<Figure size 432x288 with 2 Axes>"
      ]
     },
     "metadata": {},
     "output_type": "display_data"
    }
   ],
   "source": [
    "sns.heatmap(data_corr,annot=True,cmap='viridis')"
   ]
  },
  {
   "cell_type": "markdown",
   "metadata": {},
   "source": [
    "## Insights from the graph:\n",
    "1. Open, Close, High and low are strongly correlated.\n",
    "2. Hour is negetively correlated with open, close, high and low"
   ]
  },
  {
   "cell_type": "markdown",
   "metadata": {},
   "source": [
    "# Building the Model"
   ]
  },
  {
   "cell_type": "markdown",
   "metadata": {},
   "source": [
    "We will start by predicting the close price."
   ]
  },
  {
   "cell_type": "code",
   "execution_count": 25,
   "metadata": {},
   "outputs": [],
   "source": [
    "df1 = data.reset_index()['close']"
   ]
  },
  {
   "cell_type": "code",
   "execution_count": 26,
   "metadata": {},
   "outputs": [
    {
     "data": {
      "text/plain": [
       "[<matplotlib.lines.Line2D at 0x2614bc38eb0>]"
      ]
     },
     "execution_count": 26,
     "metadata": {},
     "output_type": "execute_result"
    },
    {
     "data": {
      "image/png": "[encoded data removed]",
      "text/plain": [
       "<Figure size 432x288 with 1 Axes>"
      ]
     },
     "metadata": {},
     "output_type": "display_data"
    }
   ],
   "source": [
    "#Let us take a look at the close column once.\n",
    "plt.plot(df1)"
   ]
  },
  {
   "cell_type": "code",
   "execution_count": 27,
   "metadata": {},
   "outputs": [],
   "source": [
    "#GRU is sensitive to the scale of the data, so we apply MinMax Scalar\n",
    "from sklearn.preprocessing import MinMaxScaler\n",
    "scaler=MinMaxScaler(feature_range=(0,1))\n",
    "df1=scaler.fit_transform(np.array(df1).reshape(-1,1))"
   ]
  },
  {
   "cell_type": "code",
   "execution_count": 28,
   "metadata": {},
   "outputs": [
    {
     "name": "stdout",
     "output_type": "stream",
     "text": [
      "[[0.22455401]\n",
      " [0.22231039]\n",
      " [0.22430776]\n",
      " ...\n",
      " [0.59565503]\n",
      " [0.59661267]\n",
      " [0.59532669]]\n"
     ]
    }
   ],
   "source": [
    "print(df1)"
   ]
  },
  {
   "cell_type": "code",
   "execution_count": 29,
   "metadata": {},
   "outputs": [],
   "source": [
    "##splitting dataset into train and test split\n",
    "training_size=int(len(df1)*0.65)\n",
    "test_size=len(df1)-training_size\n",
    "train_data,test_data=df1[0:training_size,:],df1[training_size:len(df1),:1]"
   ]
  },
  {
   "cell_type": "code",
   "execution_count": 30,
   "metadata": {},
   "outputs": [
    {
     "data": {
      "text/plain": [
       "(14823, 7982)"
      ]
     },
     "execution_count": 30,
     "metadata": {},
     "output_type": "execute_result"
    }
   ],
   "source": [
    "training_size,test_size"
   ]
  },
  {
   "cell_type": "code",
   "execution_count": 31,
   "metadata": {},
   "outputs": [
    {
     "data": {
      "text/plain": [
       "(14823, 7982)"
      ]
     },
     "execution_count": 31,
     "metadata": {},
     "output_type": "execute_result"
    }
   ],
   "source": [
    "len(train_data),len(test_data)"
   ]
  },
  {
   "cell_type": "code",
   "execution_count": 32,
   "metadata": {},
   "outputs": [
    {
     "data": {
      "text/plain": [
       "array([[0.22455401],\n",
       "       [0.22231039],\n",
       "       [0.22430776],\n",
       "       ...,\n",
       "       [0.5821112 ],\n",
       "       [0.58287731],\n",
       "       [0.58755609]])"
      ]
     },
     "execution_count": 32,
     "metadata": {},
     "output_type": "execute_result"
    }
   ],
   "source": [
    "train_data"
   ]
  },
  {
   "cell_type": "code",
   "execution_count": 33,
   "metadata": {},
   "outputs": [],
   "source": [
    "import numpy\n",
    "def create_dataset(dataset, time_step=1):\n",
    "    dataX, dataY = [], []\n",
    "    for i in range(len(dataset)-time_step-1):\n",
    "        a = dataset[i:(i+time_step), 0]   ###i=0, 0,1,2,3-----99   100 \n",
    "        dataX.append(a)\n",
    "        dataY.append(dataset[i + time_step, 0])\n",
    "    return numpy.array(dataX), numpy.array(dataY)"
   ]
  },
  {
   "cell_type": "code",
   "execution_count": 34,
   "metadata": {},
   "outputs": [],
   "source": [
    "# reshape into X=t,t+1,t+2,t+3 and Y=t+4\n",
    "time_step = 100\n",
    "X_train, y_train = create_dataset(train_data, time_step)\n",
    "X_test, ytest = create_dataset(test_data, time_step)"
   ]
  },
  {
   "cell_type": "code",
   "execution_count": 35,
   "metadata": {},
   "outputs": [
    {
     "name": "stdout",
     "output_type": "stream",
     "text": [
      "(14722, 100)\n",
      "(14722,)\n"
     ]
    },
    {
     "data": {
      "text/plain": [
       "(None, None)"
      ]
     },
     "execution_count": 35,
     "metadata": {},
     "output_type": "execute_result"
    }
   ],
   "source": [
    "print(X_train.shape), print(y_train.shape)"
   ]
  },
  {
   "cell_type": "code",
   "execution_count": 36,
   "metadata": {},
   "outputs": [
    {
     "name": "stdout",
     "output_type": "stream",
     "text": [
      "(7881, 100)\n",
      "(7881,)\n"
     ]
    },
    {
     "data": {
      "text/plain": [
       "(None, None)"
      ]
     },
     "execution_count": 36,
     "metadata": {},
     "output_type": "execute_result"
    }
   ],
   "source": [
    "print(X_test.shape), print(ytest.shape)"
   ]
  },
  {
   "cell_type": "code",
   "execution_count": 37,
   "metadata": {},
   "outputs": [],
   "source": [
    "# reshape input to be [samples, time steps, features] which is required for GRU\n",
    "X_train =X_train.reshape(X_train.shape[0],X_train.shape[1] , 1)\n",
    "X_test = X_test.reshape(X_test.shape[0],X_test.shape[1] , 1)"
   ]
  },
  {
   "cell_type": "code",
   "execution_count": 38,
   "metadata": {},
   "outputs": [],
   "source": [
    "from keras.models import Sequential\n",
    "from keras.layers import Dense, LSTM, Dropout, GRU, Bidirectional\n",
    "import math\n",
    "from sklearn.metrics import mean_squared_error"
   ]
  },
  {
   "cell_type": "code",
   "execution_count": 39,
   "metadata": {},
   "outputs": [
    {
     "name": "stdout",
     "output_type": "stream",
     "text": [
      "Epoch 1/50\n",
      "99/99 [==============================] - 90s 482ms/step - loss: 0.0805\n",
      "Epoch 2/50\n",
      "99/99 [==============================] - 49s 490ms/step - loss: 0.0220\n",
      "Epoch 3/50\n",
      "99/99 [==============================] - 48s 484ms/step - loss: 0.0098\n",
      "Epoch 4/50\n",
      "99/99 [==============================] - 49s 490ms/step - loss: 0.0057\n",
      "Epoch 5/50\n",
      "99/99 [==============================] - 48s 489ms/step - loss: 0.0048\n",
      "Epoch 6/50\n",
      "99/99 [==============================] - 49s 493ms/step - loss: 0.0043\n",
      "Epoch 7/50\n",
      "99/99 [==============================] - 49s 496ms/step - loss: 0.0040\n",
      "Epoch 8/50\n",
      "99/99 [==============================] - 49s 497ms/step - loss: 0.0038\n",
      "Epoch 9/50\n",
      "99/99 [==============================] - 49s 498ms/step - loss: 0.0037\n",
      "Epoch 10/50\n",
      "99/99 [==============================] - 49s 497ms/step - loss: 0.0034\n",
      "Epoch 11/50\n",
      "99/99 [==============================] - 49s 497ms/step - loss: 0.0034\n",
      "Epoch 12/50\n",
      "99/99 [==============================] - 49s 491ms/step - loss: 0.0033\n",
      "Epoch 13/50\n",
      "99/99 [==============================] - 48s 486ms/step - loss: 0.0032\n",
      "Epoch 14/50\n",
      "99/99 [==============================] - 49s 495ms/step - loss: 0.0030\n",
      "Epoch 15/50\n",
      "99/99 [==============================] - 48s 488ms/step - loss: 0.0028\n",
      "Epoch 16/50\n",
      "99/99 [==============================] - 48s 485ms/step - loss: 0.0029\n",
      "Epoch 17/50\n",
      "99/99 [==============================] - 48s 481ms/step - loss: 0.0028\n",
      "Epoch 18/50\n",
      "99/99 [==============================] - 48s 488ms/step - loss: 0.0025\n",
      "Epoch 19/50\n",
      "99/99 [==============================] - 48s 488ms/step - loss: 0.0026\n",
      "Epoch 20/50\n",
      "99/99 [==============================] - 48s 488ms/step - loss: 0.0026\n",
      "Epoch 21/50\n",
      "99/99 [==============================] - 48s 488ms/step - loss: 0.0025\n",
      "Epoch 22/50\n",
      "99/99 [==============================] - 48s 485ms/step - loss: 0.0024\n",
      "Epoch 23/50\n",
      "99/99 [==============================] - 49s 490ms/step - loss: 0.0024\n",
      "Epoch 24/50\n",
      "99/99 [==============================] - 50s 502ms/step - loss: 0.0023\n",
      "Epoch 25/50\n",
      "99/99 [==============================] - 50s 500ms/step - loss: 0.0023\n",
      "Epoch 26/50\n",
      "99/99 [==============================] - 51s 518ms/step - loss: 0.0023\n",
      "Epoch 27/50\n",
      "99/99 [==============================] - 50s 508ms/step - loss: 0.0023\n",
      "Epoch 28/50\n",
      "99/99 [==============================] - 50s 507ms/step - loss: 0.0022\n",
      "Epoch 29/50\n",
      "99/99 [==============================] - 50s 505ms/step - loss: 0.0022\n",
      "Epoch 30/50\n",
      "99/99 [==============================] - 50s 503ms/step - loss: 0.0021\n",
      "Epoch 31/50\n",
      "99/99 [==============================] - 48s 487ms/step - loss: 0.0021\n",
      "Epoch 32/50\n",
      "99/99 [==============================] - 48s 482ms/step - loss: 0.0021\n",
      "Epoch 33/50\n",
      "99/99 [==============================] - 49s 491ms/step - loss: 0.0021\n",
      "Epoch 34/50\n",
      "99/99 [==============================] - 48s 484ms/step - loss: 0.0020\n",
      "Epoch 35/50\n",
      "99/99 [==============================] - 48s 486ms/step - loss: 0.0020\n",
      "Epoch 36/50\n",
      "99/99 [==============================] - 48s 486ms/step - loss: 0.0019\n",
      "Epoch 37/50\n",
      "99/99 [==============================] - 50s 507ms/step - loss: 0.0019\n",
      "Epoch 38/50\n",
      "99/99 [==============================] - 51s 512ms/step - loss: 0.0020\n",
      "Epoch 39/50\n",
      "99/99 [==============================] - 51s 511ms/step - loss: 0.0018\n",
      "Epoch 40/50\n",
      "99/99 [==============================] - 53s 535ms/step - loss: 0.0018\n",
      "Epoch 41/50\n",
      "99/99 [==============================] - 55s 556ms/step - loss: 0.0018\n",
      "Epoch 42/50\n",
      "99/99 [==============================] - 54s 548ms/step - loss: 0.0018\n",
      "Epoch 43/50\n",
      "99/99 [==============================] - 50s 501ms/step - loss: 0.0018\n",
      "Epoch 44/50\n",
      "99/99 [==============================] - 48s 488ms/step - loss: 0.0017\n",
      "Epoch 45/50\n",
      "99/99 [==============================] - 49s 493ms/step - loss: 0.0018\n",
      "Epoch 46/50\n",
      "99/99 [==============================] - 49s 491ms/step - loss: 0.0017\n",
      "Epoch 47/50\n",
      "99/99 [==============================] - 49s 491ms/step - loss: 0.0017\n",
      "Epoch 48/50\n",
      "99/99 [==============================] - 48s 489ms/step - loss: 0.0017\n",
      "Epoch 49/50\n",
      "99/99 [==============================] - 49s 495ms/step - loss: 0.0018\n",
      "Epoch 50/50\n",
      "99/99 [==============================] - 49s 493ms/step - loss: 0.0017\n"
     ]
    },
    {
     "data": {
      "text/plain": [
       "<keras.callbacks.History at 0x26158b34d90>"
      ]
     },
     "execution_count": 39,
     "metadata": {},
     "output_type": "execute_result"
    }
   ],
   "source": [
    "# The GRU architecture\n",
    "regressorGRU = Sequential()\n",
    "# First GRU layer with Dropout regularisation\n",
    "regressorGRU.add(GRU(units=50, return_sequences=True, input_shape=(X_train.shape[1],1), activation='tanh'))\n",
    "regressorGRU.add(Dropout(0.2))\n",
    "# Second GRU layer\n",
    "regressorGRU.add(GRU(units=50, return_sequences=True, input_shape=(X_train.shape[1],1), activation='tanh'))\n",
    "regressorGRU.add(Dropout(0.2))\n",
    "# Third GRU layer\n",
    "regressorGRU.add(GRU(units=50, return_sequences=True, input_shape=(X_train.shape[1],1), activation='tanh'))\n",
    "regressorGRU.add(Dropout(0.2))\n",
    "# Fourth GRU layer\n",
    "regressorGRU.add(GRU(units=50, activation='tanh'))\n",
    "regressorGRU.add(Dropout(0.2))\n",
    "# The output layer\n",
    "regressorGRU.add(Dense(units=1))\n",
    "# Compiling the RNN\n",
    "regressorGRU.compile(optimizer='SGD',loss='mean_squared_error')\n",
    "# Fitting to the training set\n",
    "regressorGRU.fit(X_train,y_train,epochs=50,batch_size=150)"
   ]
  },
  {
   "cell_type": "code",
   "execution_count": 40,
   "metadata": {},
   "outputs": [],
   "source": [
    "### Lets Do the prediction and check performance metrics\n",
    "train_predict_close=regressorGRU.predict(X_train)\n",
    "test_predict_close=regressorGRU.predict(X_test)"
   ]
  },
  {
   "cell_type": "code",
   "execution_count": 42,
   "metadata": {},
   "outputs": [],
   "source": [
    "##Transformback to original form\n",
    "train_predict_close=scaler.inverse_transform(train_predict_close)\n",
    "test_predict_close=scaler.inverse_transform(test_predict_close)"
   ]
  },
  {
   "cell_type": "code",
   "execution_count": 44,
   "metadata": {},
   "outputs": [
    {
     "data": {
      "text/plain": [
       "14636.71558034222"
      ]
     },
     "execution_count": 44,
     "metadata": {},
     "output_type": "execute_result"
    }
   ],
   "source": [
    "### Calculate RMSE performance metrics\n",
    "import math\n",
    "from sklearn.metrics import mean_squared_error\n",
    "math.sqrt(mean_squared_error(y_train,train_predict_close))"
   ]
  },
  {
   "cell_type": "code",
   "execution_count": 45,
   "metadata": {},
   "outputs": [
    {
     "data": {
      "text/plain": [
       "14838.285263633908"
      ]
     },
     "execution_count": 45,
     "metadata": {},
     "output_type": "execute_result"
    }
   ],
   "source": [
    "### Test Data RMSE\n",
    "math.sqrt(mean_squared_error(ytest,test_predict_close))"
   ]
  },
  {
   "cell_type": "code",
   "execution_count": 48,
   "metadata": {},
   "outputs": [
    {
     "data": {
      "text/plain": [
       "[<matplotlib.lines.Line2D at 0x261679e6250>]"
      ]
     },
     "execution_count": 48,
     "metadata": {},
     "output_type": "execute_result"
    },
    {
     "data": {
      "image/png": "[encoded data removed]",
      "text/plain": [
       "<Figure size 432x288 with 1 Axes>"
      ]
     },
     "metadata": {},
     "output_type": "display_data"
    }
   ],
   "source": [
    "#plotting the predictions\n",
    "plt.plot(y_train,train_predict_close)\n",
    "plt.plot(ytest,test_predict_close)"
   ]
  },
  {
   "cell_type": "markdown",
   "metadata": {},
   "source": [
    "## Model for high prices"
   ]
  },
  {
   "cell_type": "code",
   "execution_count": 50,
   "metadata": {},
   "outputs": [],
   "source": [
    "df2 = data.reset_index()['high']"
   ]
  },
  {
   "cell_type": "code",
   "execution_count": 51,
   "metadata": {},
   "outputs": [
    {
     "data": {
      "text/plain": [
       "[<matplotlib.lines.Line2D at 0x26167a2ce20>]"
      ]
     },
     "execution_count": 51,
     "metadata": {},
     "output_type": "execute_result"
    },
    {
     "data": {
      "image/png": "[encoded data removed]",
      "text/plain": [
       "<Figure size 432x288 with 1 Axes>"
      ]
     },
     "metadata": {},
     "output_type": "display_data"
    }
   ],
   "source": [
    "plt.plot(df2)"
   ]
  },
  {
   "cell_type": "code",
   "execution_count": 52,
   "metadata": {},
   "outputs": [],
   "source": [
    "#GRU is sensitive to the scale of the data, so we apply MinMax Scalar\n",
    "from sklearn.preprocessing import MinMaxScaler\n",
    "scaler=MinMaxScaler(feature_range=(0,1))\n",
    "df2=scaler.fit_transform(np.array(df2).reshape(-1,1))"
   ]
  },
  {
   "cell_type": "code",
   "execution_count": 53,
   "metadata": {},
   "outputs": [],
   "source": [
    "##splitting dataset into train and test split\n",
    "training_size=int(len(df2)*0.65)\n",
    "test_size=len(df2)-training_size\n",
    "train_data,test_data=df2[0:training_size,:],df2[training_size:len(df2),:1]"
   ]
  },
  {
   "cell_type": "code",
   "execution_count": 54,
   "metadata": {},
   "outputs": [],
   "source": [
    "import numpy\n",
    "def create_dataset(dataset, time_step=1):\n",
    "    dataX, dataY = [], []\n",
    "    for i in range(len(dataset)-time_step-1):\n",
    "        a = dataset[i:(i+time_step), 0]   ###i=0, 0,1,2,3-----99   100 \n",
    "        dataX.append(a)\n",
    "        dataY.append(dataset[i + time_step, 0])\n",
    "    return numpy.array(dataX), numpy.array(dataY)"
   ]
  },
  {
   "cell_type": "code",
   "execution_count": 55,
   "metadata": {},
   "outputs": [],
   "source": [
    "# reshape into X=t,t+1,t+2,t+3 and Y=t+4\n",
    "time_step = 100\n",
    "X_train, y_train = create_dataset(train_data, time_step)\n",
    "X_test, ytest = create_dataset(test_data, time_step)"
   ]
  },
  {
   "cell_type": "code",
   "execution_count": 56,
   "metadata": {},
   "outputs": [],
   "source": [
    "# reshape input to be [samples, time steps, features] which is required for GRU\n",
    "X_train =X_train.reshape(X_train.shape[0],X_train.shape[1] , 1)\n",
    "X_test = X_test.reshape(X_test.shape[0],X_test.shape[1] , 1)"
   ]
  },
  {
   "cell_type": "code",
   "execution_count": 57,
   "metadata": {},
   "outputs": [
    {
     "name": "stdout",
     "output_type": "stream",
     "text": [
      "Epoch 1/50\n",
      "99/99 [==============================] - 64s 490ms/step - loss: 0.0889\n",
      "Epoch 2/50\n",
      "99/99 [==============================] - 48s 489ms/step - loss: 0.0246\n",
      "Epoch 3/50\n",
      "99/99 [==============================] - 48s 485ms/step - loss: 0.0109\n",
      "Epoch 4/50\n",
      "99/99 [==============================] - 48s 485ms/step - loss: 0.0058\n",
      "Epoch 5/50\n",
      "99/99 [==============================] - 48s 487ms/step - loss: 0.0047\n",
      "Epoch 6/50\n",
      "99/99 [==============================] - 49s 492ms/step - loss: 0.0044\n",
      "Epoch 7/50\n",
      "99/99 [==============================] - 48s 488ms/step - loss: 0.0041\n",
      "Epoch 8/50\n",
      "99/99 [==============================] - 50s 500ms/step - loss: 0.0038\n",
      "Epoch 9/50\n",
      "99/99 [==============================] - 50s 506ms/step - loss: 0.0037\n",
      "Epoch 10/50\n",
      "99/99 [==============================] - 50s 507ms/step - loss: 0.0033\n",
      "Epoch 11/50\n",
      "99/99 [==============================] - 51s 510ms/step - loss: 0.0033\n",
      "Epoch 12/50\n",
      "99/99 [==============================] - 50s 509ms/step - loss: 0.0031\n",
      "Epoch 13/50\n",
      "99/99 [==============================] - 50s 506ms/step - loss: 0.0031\n",
      "Epoch 14/50\n",
      "99/99 [==============================] - 50s 501ms/step - loss: 0.0031\n",
      "Epoch 15/50\n",
      "99/99 [==============================] - 49s 496ms/step - loss: 0.0029\n",
      "Epoch 16/50\n",
      "99/99 [==============================] - 50s 503ms/step - loss: 0.0028\n",
      "Epoch 17/50\n",
      "99/99 [==============================] - 49s 495ms/step - loss: 0.0027\n",
      "Epoch 18/50\n",
      "99/99 [==============================] - 49s 494ms/step - loss: 0.0027\n",
      "Epoch 19/50\n",
      "99/99 [==============================] - 49s 497ms/step - loss: 0.0025\n",
      "Epoch 20/50\n",
      "99/99 [==============================] - 49s 493ms/step - loss: 0.0025\n",
      "Epoch 21/50\n",
      "99/99 [==============================] - 49s 497ms/step - loss: 0.0024\n",
      "Epoch 22/50\n",
      "99/99 [==============================] - 49s 497ms/step - loss: 0.0024\n",
      "Epoch 23/50\n",
      "99/99 [==============================] - 50s 500ms/step - loss: 0.0024\n",
      "Epoch 24/50\n",
      "99/99 [==============================] - 49s 497ms/step - loss: 0.0023\n",
      "Epoch 25/50\n",
      "99/99 [==============================] - 50s 506ms/step - loss: 0.0024\n",
      "Epoch 26/50\n",
      "99/99 [==============================] - 720s 7s/step - loss: 0.0022\n",
      "Epoch 27/50\n",
      "99/99 [==============================] - 54s 544ms/step - loss: 0.0022\n",
      "Epoch 28/50\n",
      "99/99 [==============================] - 54s 542ms/step - loss: 0.0021\n",
      "Epoch 29/50\n",
      "99/99 [==============================] - 54s 543ms/step - loss: 0.0021\n",
      "Epoch 30/50\n",
      "99/99 [==============================] - 66s 670ms/step - loss: 0.0020\n",
      "Epoch 31/50\n",
      "99/99 [==============================] - 65s 655ms/step - loss: 0.0021\n",
      "Epoch 32/50\n",
      "99/99 [==============================] - 61s 619ms/step - loss: 0.0020\n",
      "Epoch 33/50\n",
      "99/99 [==============================] - 60s 605ms/step - loss: 0.0020\n",
      "Epoch 34/50\n",
      "99/99 [==============================] - 57s 574ms/step - loss: 0.0020\n",
      "Epoch 35/50\n",
      "99/99 [==============================] - 56s 568ms/step - loss: 0.0020\n",
      "Epoch 36/50\n",
      "99/99 [==============================] - 59s 591ms/step - loss: 0.0020\n",
      "Epoch 37/50\n",
      "99/99 [==============================] - 64s 645ms/step - loss: 0.0019\n",
      "Epoch 38/50\n",
      "99/99 [==============================] - 62s 623ms/step - loss: 0.0018\n",
      "Epoch 39/50\n",
      "99/99 [==============================] - 58s 583ms/step - loss: 0.0019\n",
      "Epoch 40/50\n",
      "99/99 [==============================] - 57s 576ms/step - loss: 0.0018\n",
      "Epoch 41/50\n",
      "99/99 [==============================] - 58s 585ms/step - loss: 0.0018\n",
      "Epoch 42/50\n",
      "99/99 [==============================] - 57s 578ms/step - loss: 0.0017\n",
      "Epoch 43/50\n",
      "99/99 [==============================] - 56s 570ms/step - loss: 0.00170s - loss: 0.001\n",
      "Epoch 44/50\n",
      "99/99 [==============================] - 56s 566ms/step - loss: 0.0018\n",
      "Epoch 45/50\n",
      "99/99 [==============================] - 56s 569ms/step - loss: 0.0017\n",
      "Epoch 46/50\n",
      "99/99 [==============================] - 64s 646ms/step - loss: 0.0018\n",
      "Epoch 47/50\n",
      "99/99 [==============================] - 58s 590ms/step - loss: 0.0017\n",
      "Epoch 48/50\n",
      "99/99 [==============================] - 58s 583ms/step - loss: 0.0017\n",
      "Epoch 49/50\n",
      "99/99 [==============================] - 61s 612ms/step - loss: 0.0017\n",
      "Epoch 50/50\n",
      "99/99 [==============================] - 62s 625ms/step - loss: 0.0016\n"
     ]
    },
    {
     "data": {
      "text/plain": [
       "<keras.callbacks.History at 0x2614f4041f0>"
      ]
     },
     "execution_count": 57,
     "metadata": {},
     "output_type": "execute_result"
    }
   ],
   "source": [
    "# The GRU architecture\n",
    "regressorGRU = Sequential()\n",
    "# First GRU layer with Dropout regularisation\n",
    "regressorGRU.add(GRU(units=50, return_sequences=True, input_shape=(X_train.shape[1],1), activation='tanh'))\n",
    "regressorGRU.add(Dropout(0.2))\n",
    "# Second GRU layer\n",
    "regressorGRU.add(GRU(units=50, return_sequences=True, input_shape=(X_train.shape[1],1), activation='tanh'))\n",
    "regressorGRU.add(Dropout(0.2))\n",
    "# Third GRU layer\n",
    "regressorGRU.add(GRU(units=50, return_sequences=True, input_shape=(X_train.shape[1],1), activation='tanh'))\n",
    "regressorGRU.add(Dropout(0.2))\n",
    "# Fourth GRU layer\n",
    "regressorGRU.add(GRU(units=50, activation='tanh'))\n",
    "regressorGRU.add(Dropout(0.2))\n",
    "# The output layer\n",
    "regressorGRU.add(Dense(units=1))\n",
    "# Compiling the RNN\n",
    "regressorGRU.compile(optimizer='SGD',loss='mean_squared_error')\n",
    "# Fitting to the training set\n",
    "regressorGRU.fit(X_train,y_train,epochs=50,batch_size=150)"
   ]
  },
  {
   "cell_type": "code",
   "execution_count": 58,
   "metadata": {},
   "outputs": [],
   "source": [
    "### Lets Do the prediction and check performance metrics\n",
    "train_predict_high=regressorGRU.predict(X_train)\n",
    "test_predict_high=regressorGRU.predict(X_test)"
   ]
  },
  {
   "cell_type": "code",
   "execution_count": 60,
   "metadata": {},
   "outputs": [],
   "source": [
    "##Transformback to original form\n",
    "train_predict_high=scaler.inverse_transform(train_predict_high)\n",
    "test_predict_high=scaler.inverse_transform(test_predict_high)"
   ]
  },
  {
   "cell_type": "code",
   "execution_count": 61,
   "metadata": {},
   "outputs": [
    {
     "data": {
      "text/plain": [
       "14637.526550083294"
      ]
     },
     "execution_count": 61,
     "metadata": {},
     "output_type": "execute_result"
    }
   ],
   "source": [
    "### Calculate RMSE performance metrics\n",
    "import math\n",
    "from sklearn.metrics import mean_squared_error\n",
    "math.sqrt(mean_squared_error(y_train,train_predict_high))"
   ]
  },
  {
   "cell_type": "code",
   "execution_count": 62,
   "metadata": {},
   "outputs": [
    {
     "data": {
      "text/plain": [
       "14840.538578638387"
      ]
     },
     "execution_count": 62,
     "metadata": {},
     "output_type": "execute_result"
    }
   ],
   "source": [
    "### Test Data RMSE\n",
    "math.sqrt(mean_squared_error(ytest,test_predict_high))"
   ]
  },
  {
   "cell_type": "code",
   "execution_count": 63,
   "metadata": {},
   "outputs": [
    {
     "data": {
      "text/plain": [
       "[<matplotlib.lines.Line2D at 0x26178377ca0>]"
      ]
     },
     "execution_count": 63,
     "metadata": {},
     "output_type": "execute_result"
    },
    {
     "data": {
      "image/png": "[encoded data removed]",
      "text/plain": [
       "<Figure size 432x288 with 1 Axes>"
      ]
     },
     "metadata": {},
     "output_type": "display_data"
    }
   ],
   "source": [
    "#plotting the predictions\n",
    "plt.plot(y_train,train_predict_high)\n",
    "plt.plot(ytest,test_predict_high)"
   ]
  },
  {
   "cell_type": "code",
   "execution_count": 64,
   "metadata": {},
   "outputs": [],
   "source": [
    "df3 = data.reset_index()['low']"
   ]
  },
  {
   "cell_type": "code",
   "execution_count": 65,
   "metadata": {},
   "outputs": [
    {
     "data": {
      "text/plain": [
       "[<matplotlib.lines.Line2D at 0x261783c7e80>]"
      ]
     },
     "execution_count": 65,
     "metadata": {},
     "output_type": "execute_result"
    },
    {
     "data": {
      "image/png": "[encoded data removed]",
      "text/plain": [
       "<Figure size 432x288 with 1 Axes>"
      ]
     },
     "metadata": {},
     "output_type": "display_data"
    }
   ],
   "source": [
    "plt.plot(df3)"
   ]
  },
  {
   "cell_type": "code",
   "execution_count": 66,
   "metadata": {},
   "outputs": [],
   "source": [
    "#GRU is sensitive to the scale of the data, so we apply MinMax Scalar\n",
    "from sklearn.preprocessing import MinMaxScaler\n",
    "scaler=MinMaxScaler(feature_range=(0,1))\n",
    "df3=scaler.fit_transform(np.array(df3).reshape(-1,1))"
   ]
  },
  {
   "cell_type": "code",
   "execution_count": 67,
   "metadata": {},
   "outputs": [],
   "source": [
    "##splitting dataset into train and test split\n",
    "training_size=int(len(df3)*0.65)\n",
    "test_size=len(df3)-training_size\n",
    "train_data,test_data=df3[0:training_size,:],df3[training_size:len(df2),:1]"
   ]
  },
  {
   "cell_type": "code",
   "execution_count": 68,
   "metadata": {},
   "outputs": [],
   "source": [
    "# reshape into X=t,t+1,t+2,t+3 and Y=t+4\n",
    "time_step = 100\n",
    "X_train, y_train = create_dataset(train_data, time_step)\n",
    "X_test, ytest = create_dataset(test_data, time_step)"
   ]
  },
  {
   "cell_type": "code",
   "execution_count": 69,
   "metadata": {},
   "outputs": [],
   "source": [
    "# reshape input to be [samples, time steps, features] which is required for GRU\n",
    "X_train =X_train.reshape(X_train.shape[0],X_train.shape[1] , 1)\n",
    "X_test = X_test.reshape(X_test.shape[0],X_test.shape[1] , 1)"
   ]
  },
  {
   "cell_type": "code",
   "execution_count": 70,
   "metadata": {},
   "outputs": [
    {
     "name": "stdout",
     "output_type": "stream",
     "text": [
      "Epoch 1/50\n",
      "99/99 [==============================] - 99s 579ms/step - loss: 0.1024\n",
      "Epoch 2/50\n",
      "99/99 [==============================] - 62s 625ms/step - loss: 0.0375\n",
      "Epoch 3/50\n",
      "99/99 [==============================] - 65s 654ms/step - loss: 0.0226\n",
      "Epoch 4/50\n",
      "99/99 [==============================] - 63s 639ms/step - loss: 0.0108\n",
      "Epoch 5/50\n",
      "99/99 [==============================] - 64s 650ms/step - loss: 0.0060\n",
      "Epoch 6/50\n",
      "99/99 [==============================] - 65s 654ms/step - loss: 0.0043\n",
      "Epoch 7/50\n",
      "99/99 [==============================] - 65s 658ms/step - loss: 0.0040\n",
      "Epoch 8/50\n",
      "99/99 [==============================] - 62s 629ms/step - loss: 0.0039\n",
      "Epoch 9/50\n",
      "99/99 [==============================] - 62s 627ms/step - loss: 0.0035\n",
      "Epoch 10/50\n",
      "99/99 [==============================] - 63s 638ms/step - loss: 0.0035\n",
      "Epoch 11/50\n",
      "99/99 [==============================] - 60s 611ms/step - loss: 0.0033\n",
      "Epoch 12/50\n",
      "99/99 [==============================] - 62s 625ms/step - loss: 0.0031\n",
      "Epoch 13/50\n",
      "99/99 [==============================] - 63s 641ms/step - loss: 0.0030\n",
      "Epoch 14/50\n",
      "99/99 [==============================] - 64s 642ms/step - loss: 0.0029\n",
      "Epoch 15/50\n",
      "99/99 [==============================] - 64s 641ms/step - loss: 0.0028\n",
      "Epoch 16/50\n",
      "99/99 [==============================] - 63s 632ms/step - loss: 0.0026\n",
      "Epoch 17/50\n",
      "99/99 [==============================] - 62s 630ms/step - loss: 0.0025\n",
      "Epoch 18/50\n",
      "99/99 [==============================] - 59s 592ms/step - loss: 0.0026\n",
      "Epoch 19/50\n",
      "99/99 [==============================] - 62s 627ms/step - loss: 0.0025\n",
      "Epoch 20/50\n",
      "99/99 [==============================] - 61s 618ms/step - loss: 0.0024\n",
      "Epoch 21/50\n",
      "99/99 [==============================] - 62s 632ms/step - loss: 0.0024\n",
      "Epoch 22/50\n",
      "99/99 [==============================] - 61s 614ms/step - loss: 0.0023\n",
      "Epoch 23/50\n",
      "99/99 [==============================] - 68s 692ms/step - loss: 0.0024\n",
      "Epoch 24/50\n",
      "99/99 [==============================] - 77s 783ms/step - loss: 0.0023\n",
      "Epoch 25/50\n",
      "99/99 [==============================] - 68s 688ms/step - loss: 0.0022\n",
      "Epoch 26/50\n",
      "99/99 [==============================] - 68s 689ms/step - loss: 0.0022\n",
      "Epoch 27/50\n",
      "99/99 [==============================] - 69s 696ms/step - loss: 0.0022\n",
      "Epoch 28/50\n",
      "99/99 [==============================] - 70s 710ms/step - loss: 0.0021\n",
      "Epoch 29/50\n",
      "99/99 [==============================] - 69s 694ms/step - loss: 0.0021\n",
      "Epoch 30/50\n",
      "99/99 [==============================] - 70s 707ms/step - loss: 0.0020\n",
      "Epoch 31/50\n",
      "99/99 [==============================] - 68s 688ms/step - loss: 0.0020\n",
      "Epoch 32/50\n",
      "99/99 [==============================] - 69s 696ms/step - loss: 0.0020\n",
      "Epoch 33/50\n",
      "99/99 [==============================] - 70s 708ms/step - loss: 0.0019\n",
      "Epoch 34/50\n",
      "99/99 [==============================] - 72s 722ms/step - loss: 0.0019\n",
      "Epoch 35/50\n",
      "99/99 [==============================] - 71s 715ms/step - loss: 0.0020\n",
      "Epoch 36/50\n",
      "99/99 [==============================] - 72s 730ms/step - loss: 0.0019\n",
      "Epoch 37/50\n",
      "99/99 [==============================] - 75s 755ms/step - loss: 0.0019\n",
      "Epoch 38/50\n",
      "99/99 [==============================] - 69s 694ms/step - loss: 0.0018\n",
      "Epoch 39/50\n",
      "99/99 [==============================] - 68s 688ms/step - loss: 0.0019\n",
      "Epoch 40/50\n",
      "99/99 [==============================] - 68s 689ms/step - loss: 0.0019\n",
      "Epoch 41/50\n",
      "99/99 [==============================] - 62s 631ms/step - loss: 0.0018\n",
      "Epoch 42/50\n",
      "99/99 [==============================] - 60s 606ms/step - loss: 0.0018\n",
      "Epoch 43/50\n",
      "99/99 [==============================] - 61s 616ms/step - loss: 0.0018\n",
      "Epoch 44/50\n",
      "99/99 [==============================] - 62s 626ms/step - loss: 0.0018\n",
      "Epoch 45/50\n",
      "99/99 [==============================] - 60s 606ms/step - loss: 0.0017\n",
      "Epoch 46/50\n",
      "99/99 [==============================] - 61s 614ms/step - loss: 0.0017\n",
      "Epoch 47/50\n",
      "99/99 [==============================] - 62s 622ms/step - loss: 0.0017\n",
      "Epoch 48/50\n",
      "99/99 [==============================] - 61s 619ms/step - loss: 0.0017\n",
      "Epoch 49/50\n",
      "99/99 [==============================] - 64s 650ms/step - loss: 0.0016\n",
      "Epoch 50/50\n",
      "99/99 [==============================] - 61s 614ms/step - loss: 0.0017\n"
     ]
    },
    {
     "data": {
      "text/plain": [
       "<keras.callbacks.History at 0x2616efeff70>"
      ]
     },
     "execution_count": 70,
     "metadata": {},
     "output_type": "execute_result"
    }
   ],
   "source": [
    "# The GRU architecture\n",
    "regressorGRU = Sequential()\n",
    "# First GRU layer with Dropout regularisation\n",
    "regressorGRU.add(GRU(units=50, return_sequences=True, input_shape=(X_train.shape[1],1), activation='tanh'))\n",
    "regressorGRU.add(Dropout(0.2))\n",
    "# Second GRU layer\n",
    "regressorGRU.add(GRU(units=50, return_sequences=True, input_shape=(X_train.shape[1],1), activation='tanh'))\n",
    "regressorGRU.add(Dropout(0.2))\n",
    "# Third GRU layer\n",
    "regressorGRU.add(GRU(units=50, return_sequences=True, input_shape=(X_train.shape[1],1), activation='tanh'))\n",
    "regressorGRU.add(Dropout(0.2))\n",
    "# Fourth GRU layer\n",
    "regressorGRU.add(GRU(units=50, activation='tanh'))\n",
    "regressorGRU.add(Dropout(0.2))\n",
    "# The output layer\n",
    "regressorGRU.add(Dense(units=1))\n",
    "# Compiling the RNN\n",
    "regressorGRU.compile(optimizer='SGD',loss='mean_squared_error')\n",
    "# Fitting to the training set\n",
    "regressorGRU.fit(X_train,y_train,epochs=50,batch_size=150)"
   ]
  },
  {
   "cell_type": "code",
   "execution_count": 73,
   "metadata": {},
   "outputs": [],
   "source": [
    "### Lets Do the prediction and check performance metrics\n",
    "train_predict_low=regressorGRU.predict(X_train)\n",
    "test_predict_low=regressorGRU.predict(X_test)"
   ]
  },
  {
   "cell_type": "code",
   "execution_count": 74,
   "metadata": {},
   "outputs": [],
   "source": [
    "##Transformback to original form\n",
    "train_predict_low=scaler.inverse_transform(train_predict_low)\n",
    "test_predict_low=scaler.inverse_transform(test_predict_low)"
   ]
  },
  {
   "cell_type": "code",
   "execution_count": 75,
   "metadata": {},
   "outputs": [
    {
     "data": {
      "text/plain": [
       "14631.348607714352"
      ]
     },
     "execution_count": 75,
     "metadata": {},
     "output_type": "execute_result"
    }
   ],
   "source": [
    "### Calculate RMSE performance metrics\n",
    "import math\n",
    "from sklearn.metrics import mean_squared_error\n",
    "math.sqrt(mean_squared_error(y_train,train_predict_low))"
   ]
  },
  {
   "cell_type": "code",
   "execution_count": 76,
   "metadata": {},
   "outputs": [
    {
     "data": {
      "text/plain": [
       "14831.300372939906"
      ]
     },
     "execution_count": 76,
     "metadata": {},
     "output_type": "execute_result"
    }
   ],
   "source": [
    "### Test Data RMSE\n",
    "math.sqrt(mean_squared_error(ytest,test_predict_low))"
   ]
  },
  {
   "cell_type": "code",
   "execution_count": 77,
   "metadata": {},
   "outputs": [
    {
     "data": {
      "text/plain": [
       "[<matplotlib.lines.Line2D at 0x261073307c0>]"
      ]
     },
     "execution_count": 77,
     "metadata": {},
     "output_type": "execute_result"
    },
    {
     "data": {
      "image/png": "[encoded data removed]",
      "text/plain": [
       "<Figure size 432x288 with 1 Axes>"
      ]
     },
     "metadata": {},
     "output_type": "display_data"
    }
   ],
   "source": [
    "#plotting the predictions\n",
    "plt.plot(y_train,train_predict_low)\n",
    "plt.plot(ytest,test_predict_low)"
   ]
  },
  {
   "cell_type": "markdown",
   "metadata": {},
   "source": [
    "# Thank you!"
   ]
  }
 ],
 "metadata": {
  "kernelspec": {
   "display_name": "Python 3",
   "language": "python",
   "name": "python3"
  },
  "language_info": {
   "codemirror_mode": {
    "name": "ipython",
    "version": 3
   },
   "file_extension": ".py",
   "mimetype": "text/x-python",
   "name": "python",
   "nbconvert_exporter": "python",
   "pygments_lexer": "ipython3",
   "version": "3.8.8"
  }
 },
 "nbformat": 4,
 "nbformat_minor": 4
}
