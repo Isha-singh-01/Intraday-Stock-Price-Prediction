{
 "cells": [
  {
   "cell_type": "markdown",
   "metadata": {},
   "source": [
    "# INTRADAY STOCK TRADING PREDICTION USING DEEP LEARNING\n",
    "- **Performed by - Isha Singh**\n",
    "- **Model used - GRU**\n",
    "- **Dataset - MSFT**\n"
   ]
  },
  {
   "cell_type": "code",
   "execution_count": 1,
   "metadata": {},
   "outputs": [],
   "source": [
    "#importing the required libraries\n",
    "import pandas as pd\n",
    "import numpy as np\n",
    "import matplotlib.pyplot as plt\n",
    "import seaborn as sns\n",
    "%matplotlib inline"
   ]
  },
  {
   "cell_type": "code",
   "execution_count": 2,
   "metadata": {},
   "outputs": [],
   "source": [
    "sns.set_style('darkgrid')"
   ]
  },
  {
   "cell_type": "code",
   "execution_count": 3,
   "metadata": {},
   "outputs": [
    {
     "data": {
      "text/html": [
       "<div>\n",
       "<style scoped>\n",
       "    .dataframe tbody tr th:only-of-type {\n",
       "        vertical-align: middle;\n",
       "    }\n",
       "\n",
       "    .dataframe tbody tr th {\n",
       "        vertical-align: top;\n",
       "    }\n",
       "\n",
       "    .dataframe thead th {\n",
       "        text-align: right;\n",
       "    }\n",
       "</style>\n",
       "<table border=\"1\" class=\"dataframe\">\n",
       "  <thead>\n",
       "    <tr style=\"text-align: right;\">\n",
       "      <th></th>\n",
       "      <th>Date</th>\n",
       "      <th>Open</th>\n",
       "      <th>High</th>\n",
       "      <th>Low</th>\n",
       "      <th>Close</th>\n",
       "      <th>Adj Close</th>\n",
       "      <th>Volume</th>\n",
       "    </tr>\n",
       "  </thead>\n",
       "  <tbody>\n",
       "    <tr>\n",
       "      <th>0</th>\n",
       "      <td>1986-03-13</td>\n",
       "      <td>0.088542</td>\n",
       "      <td>0.101563</td>\n",
       "      <td>0.088542</td>\n",
       "      <td>0.097222</td>\n",
       "      <td>0.061751</td>\n",
       "      <td>1031788800</td>\n",
       "    </tr>\n",
       "    <tr>\n",
       "      <th>1</th>\n",
       "      <td>1986-03-14</td>\n",
       "      <td>0.097222</td>\n",
       "      <td>0.102431</td>\n",
       "      <td>0.097222</td>\n",
       "      <td>0.100694</td>\n",
       "      <td>0.063956</td>\n",
       "      <td>308160000</td>\n",
       "    </tr>\n",
       "    <tr>\n",
       "      <th>2</th>\n",
       "      <td>1986-03-17</td>\n",
       "      <td>0.100694</td>\n",
       "      <td>0.103299</td>\n",
       "      <td>0.100694</td>\n",
       "      <td>0.102431</td>\n",
       "      <td>0.065059</td>\n",
       "      <td>133171200</td>\n",
       "    </tr>\n",
       "    <tr>\n",
       "      <th>3</th>\n",
       "      <td>1986-03-18</td>\n",
       "      <td>0.102431</td>\n",
       "      <td>0.103299</td>\n",
       "      <td>0.098958</td>\n",
       "      <td>0.099826</td>\n",
       "      <td>0.063405</td>\n",
       "      <td>67766400</td>\n",
       "    </tr>\n",
       "    <tr>\n",
       "      <th>4</th>\n",
       "      <td>1986-03-19</td>\n",
       "      <td>0.099826</td>\n",
       "      <td>0.100694</td>\n",
       "      <td>0.097222</td>\n",
       "      <td>0.098090</td>\n",
       "      <td>0.062302</td>\n",
       "      <td>47894400</td>\n",
       "    </tr>\n",
       "    <tr>\n",
       "      <th>...</th>\n",
       "      <td>...</td>\n",
       "      <td>...</td>\n",
       "      <td>...</td>\n",
       "      <td>...</td>\n",
       "      <td>...</td>\n",
       "      <td>...</td>\n",
       "      <td>...</td>\n",
       "    </tr>\n",
       "    <tr>\n",
       "      <th>8852</th>\n",
       "      <td>2021-04-27</td>\n",
       "      <td>261.579987</td>\n",
       "      <td>263.190002</td>\n",
       "      <td>260.119995</td>\n",
       "      <td>261.970001</td>\n",
       "      <td>261.970001</td>\n",
       "      <td>31014200</td>\n",
       "    </tr>\n",
       "    <tr>\n",
       "      <th>8853</th>\n",
       "      <td>2021-04-28</td>\n",
       "      <td>256.079987</td>\n",
       "      <td>256.540009</td>\n",
       "      <td>252.949997</td>\n",
       "      <td>254.559998</td>\n",
       "      <td>254.559998</td>\n",
       "      <td>46903100</td>\n",
       "    </tr>\n",
       "    <tr>\n",
       "      <th>8854</th>\n",
       "      <td>2021-04-29</td>\n",
       "      <td>255.460007</td>\n",
       "      <td>256.100006</td>\n",
       "      <td>249.000000</td>\n",
       "      <td>252.509995</td>\n",
       "      <td>252.509995</td>\n",
       "      <td>40589000</td>\n",
       "    </tr>\n",
       "    <tr>\n",
       "      <th>8855</th>\n",
       "      <td>2021-04-30</td>\n",
       "      <td>249.740005</td>\n",
       "      <td>253.080002</td>\n",
       "      <td>249.600006</td>\n",
       "      <td>252.179993</td>\n",
       "      <td>252.179993</td>\n",
       "      <td>30929200</td>\n",
       "    </tr>\n",
       "    <tr>\n",
       "      <th>8856</th>\n",
       "      <td>2021-05-03</td>\n",
       "      <td>253.399994</td>\n",
       "      <td>254.350006</td>\n",
       "      <td>251.119995</td>\n",
       "      <td>251.860001</td>\n",
       "      <td>251.860001</td>\n",
       "      <td>19598900</td>\n",
       "    </tr>\n",
       "  </tbody>\n",
       "</table>\n",
       "<p>8857 rows × 7 columns</p>\n",
       "</div>"
      ],
      "text/plain": [
       "            Date        Open        High         Low       Close   Adj Close  \\\n",
       "0     1986-03-13    0.088542    0.101563    0.088542    0.097222    0.061751   \n",
       "1     1986-03-14    0.097222    0.102431    0.097222    0.100694    0.063956   \n",
       "2     1986-03-17    0.100694    0.103299    0.100694    0.102431    0.065059   \n",
       "3     1986-03-18    0.102431    0.103299    0.098958    0.099826    0.063405   \n",
       "4     1986-03-19    0.099826    0.100694    0.097222    0.098090    0.062302   \n",
       "...          ...         ...         ...         ...         ...         ...   \n",
       "8852  2021-04-27  261.579987  263.190002  260.119995  261.970001  261.970001   \n",
       "8853  2021-04-28  256.079987  256.540009  252.949997  254.559998  254.559998   \n",
       "8854  2021-04-29  255.460007  256.100006  249.000000  252.509995  252.509995   \n",
       "8855  2021-04-30  249.740005  253.080002  249.600006  252.179993  252.179993   \n",
       "8856  2021-05-03  253.399994  254.350006  251.119995  251.860001  251.860001   \n",
       "\n",
       "          Volume  \n",
       "0     1031788800  \n",
       "1      308160000  \n",
       "2      133171200  \n",
       "3       67766400  \n",
       "4       47894400  \n",
       "...          ...  \n",
       "8852    31014200  \n",
       "8853    46903100  \n",
       "8854    40589000  \n",
       "8855    30929200  \n",
       "8856    19598900  \n",
       "\n",
       "[8857 rows x 7 columns]"
      ]
     },
     "execution_count": 3,
     "metadata": {},
     "output_type": "execute_result"
    }
   ],
   "source": [
    "df = pd.read_csv(\"MSFT.csv\")\n",
    "df"
   ]
  },
  {
   "cell_type": "code",
   "execution_count": 4,
   "metadata": {},
   "outputs": [
    {
     "data": {
      "text/plain": [
       "Index(['Date', 'Open', 'High', 'Low', 'Close', 'Adj Close', 'Volume'], dtype='object')"
      ]
     },
     "execution_count": 4,
     "metadata": {},
     "output_type": "execute_result"
    }
   ],
   "source": [
    "df.columns"
   ]
  },
  {
   "cell_type": "code",
   "execution_count": 5,
   "metadata": {},
   "outputs": [
    {
     "name": "stdout",
     "output_type": "stream",
     "text": [
      "<class 'pandas.core.frame.DataFrame'>\n",
      "RangeIndex: 8857 entries, 0 to 8856\n",
      "Data columns (total 7 columns):\n",
      " #   Column     Non-Null Count  Dtype  \n",
      "---  ------     --------------  -----  \n",
      " 0   Date       8857 non-null   object \n",
      " 1   Open       8857 non-null   float64\n",
      " 2   High       8857 non-null   float64\n",
      " 3   Low        8857 non-null   float64\n",
      " 4   Close      8857 non-null   float64\n",
      " 5   Adj Close  8857 non-null   float64\n",
      " 6   Volume     8857 non-null   int64  \n",
      "dtypes: float64(5), int64(1), object(1)\n",
      "memory usage: 484.5+ KB\n"
     ]
    }
   ],
   "source": [
    "df.info()"
   ]
  },
  {
   "cell_type": "markdown",
   "metadata": {},
   "source": [
    "## Summary of the data"
   ]
  },
  {
   "cell_type": "code",
   "execution_count": 6,
   "metadata": {},
   "outputs": [
    {
     "data": {
      "text/html": [
       "<div>\n",
       "<style scoped>\n",
       "    .dataframe tbody tr th:only-of-type {\n",
       "        vertical-align: middle;\n",
       "    }\n",
       "\n",
       "    .dataframe tbody tr th {\n",
       "        vertical-align: top;\n",
       "    }\n",
       "\n",
       "    .dataframe thead th {\n",
       "        text-align: right;\n",
       "    }\n",
       "</style>\n",
       "<table border=\"1\" class=\"dataframe\">\n",
       "  <thead>\n",
       "    <tr style=\"text-align: right;\">\n",
       "      <th></th>\n",
       "      <th>Open</th>\n",
       "      <th>High</th>\n",
       "      <th>Low</th>\n",
       "      <th>Close</th>\n",
       "      <th>Adj Close</th>\n",
       "      <th>Volume</th>\n",
       "    </tr>\n",
       "  </thead>\n",
       "  <tbody>\n",
       "    <tr>\n",
       "      <th>count</th>\n",
       "      <td>8857.000000</td>\n",
       "      <td>8857.000000</td>\n",
       "      <td>8857.000000</td>\n",
       "      <td>8857.000000</td>\n",
       "      <td>8857.000000</td>\n",
       "      <td>8.857000e+03</td>\n",
       "    </tr>\n",
       "    <tr>\n",
       "      <th>mean</th>\n",
       "      <td>34.831233</td>\n",
       "      <td>35.209355</td>\n",
       "      <td>34.449657</td>\n",
       "      <td>34.840895</td>\n",
       "      <td>29.886536</td>\n",
       "      <td>5.953411e+07</td>\n",
       "    </tr>\n",
       "    <tr>\n",
       "      <th>std</th>\n",
       "      <td>44.060163</td>\n",
       "      <td>44.513443</td>\n",
       "      <td>43.597704</td>\n",
       "      <td>44.080986</td>\n",
       "      <td>44.195101</td>\n",
       "      <td>3.858121e+07</td>\n",
       "    </tr>\n",
       "    <tr>\n",
       "      <th>min</th>\n",
       "      <td>0.088542</td>\n",
       "      <td>0.092014</td>\n",
       "      <td>0.088542</td>\n",
       "      <td>0.090278</td>\n",
       "      <td>0.057340</td>\n",
       "      <td>2.304000e+06</td>\n",
       "    </tr>\n",
       "    <tr>\n",
       "      <th>25%</th>\n",
       "      <td>3.843750</td>\n",
       "      <td>3.875000</td>\n",
       "      <td>3.812500</td>\n",
       "      <td>3.851563</td>\n",
       "      <td>2.446323</td>\n",
       "      <td>3.559720e+07</td>\n",
       "    </tr>\n",
       "    <tr>\n",
       "      <th>50%</th>\n",
       "      <td>26.590000</td>\n",
       "      <td>26.879999</td>\n",
       "      <td>26.290001</td>\n",
       "      <td>26.590000</td>\n",
       "      <td>18.686628</td>\n",
       "      <td>5.269680e+07</td>\n",
       "    </tr>\n",
       "    <tr>\n",
       "      <th>75%</th>\n",
       "      <td>36.730000</td>\n",
       "      <td>37.000000</td>\n",
       "      <td>36.110001</td>\n",
       "      <td>36.660000</td>\n",
       "      <td>27.218300</td>\n",
       "      <td>7.339520e+07</td>\n",
       "    </tr>\n",
       "    <tr>\n",
       "      <th>max</th>\n",
       "      <td>261.660004</td>\n",
       "      <td>263.190002</td>\n",
       "      <td>260.170013</td>\n",
       "      <td>261.970001</td>\n",
       "      <td>261.970001</td>\n",
       "      <td>1.031789e+09</td>\n",
       "    </tr>\n",
       "  </tbody>\n",
       "</table>\n",
       "</div>"
      ],
      "text/plain": [
       "              Open         High          Low        Close    Adj Close  \\\n",
       "count  8857.000000  8857.000000  8857.000000  8857.000000  8857.000000   \n",
       "mean     34.831233    35.209355    34.449657    34.840895    29.886536   \n",
       "std      44.060163    44.513443    43.597704    44.080986    44.195101   \n",
       "min       0.088542     0.092014     0.088542     0.090278     0.057340   \n",
       "25%       3.843750     3.875000     3.812500     3.851563     2.446323   \n",
       "50%      26.590000    26.879999    26.290001    26.590000    18.686628   \n",
       "75%      36.730000    37.000000    36.110001    36.660000    27.218300   \n",
       "max     261.660004   263.190002   260.170013   261.970001   261.970001   \n",
       "\n",
       "             Volume  \n",
       "count  8.857000e+03  \n",
       "mean   5.953411e+07  \n",
       "std    3.858121e+07  \n",
       "min    2.304000e+06  \n",
       "25%    3.559720e+07  \n",
       "50%    5.269680e+07  \n",
       "75%    7.339520e+07  \n",
       "max    1.031789e+09  "
      ]
     },
     "execution_count": 6,
     "metadata": {},
     "output_type": "execute_result"
    }
   ],
   "source": [
    "df.describe()"
   ]
  },
  {
   "cell_type": "markdown",
   "metadata": {},
   "source": [
    "## Checking for null values"
   ]
  },
  {
   "cell_type": "code",
   "execution_count": 7,
   "metadata": {},
   "outputs": [
    {
     "data": {
      "text/plain": [
       "Date         0\n",
       "Open         0\n",
       "High         0\n",
       "Low          0\n",
       "Close        0\n",
       "Adj Close    0\n",
       "Volume       0\n",
       "dtype: int64"
      ]
     },
     "execution_count": 7,
     "metadata": {},
     "output_type": "execute_result"
    }
   ],
   "source": [
    "df.isnull().sum()"
   ]
  },
  {
   "cell_type": "code",
   "execution_count": 8,
   "metadata": {},
   "outputs": [
    {
     "data": {
      "text/html": [
       "<div>\n",
       "<style scoped>\n",
       "    .dataframe tbody tr th:only-of-type {\n",
       "        vertical-align: middle;\n",
       "    }\n",
       "\n",
       "    .dataframe tbody tr th {\n",
       "        vertical-align: top;\n",
       "    }\n",
       "\n",
       "    .dataframe thead th {\n",
       "        text-align: right;\n",
       "    }\n",
       "</style>\n",
       "<table border=\"1\" class=\"dataframe\">\n",
       "  <thead>\n",
       "    <tr style=\"text-align: right;\">\n",
       "      <th></th>\n",
       "      <th>Date</th>\n",
       "      <th>Open</th>\n",
       "      <th>High</th>\n",
       "      <th>Low</th>\n",
       "      <th>Close</th>\n",
       "      <th>Adj Close</th>\n",
       "      <th>Volume</th>\n",
       "      <th>year</th>\n",
       "      <th>month</th>\n",
       "      <th>day</th>\n",
       "    </tr>\n",
       "  </thead>\n",
       "  <tbody>\n",
       "    <tr>\n",
       "      <th>0</th>\n",
       "      <td>1986-03-13</td>\n",
       "      <td>0.088542</td>\n",
       "      <td>0.101563</td>\n",
       "      <td>0.088542</td>\n",
       "      <td>0.097222</td>\n",
       "      <td>0.061751</td>\n",
       "      <td>1031788800</td>\n",
       "      <td>1986</td>\n",
       "      <td>3</td>\n",
       "      <td>13</td>\n",
       "    </tr>\n",
       "    <tr>\n",
       "      <th>1</th>\n",
       "      <td>1986-03-14</td>\n",
       "      <td>0.097222</td>\n",
       "      <td>0.102431</td>\n",
       "      <td>0.097222</td>\n",
       "      <td>0.100694</td>\n",
       "      <td>0.063956</td>\n",
       "      <td>308160000</td>\n",
       "      <td>1986</td>\n",
       "      <td>3</td>\n",
       "      <td>14</td>\n",
       "    </tr>\n",
       "    <tr>\n",
       "      <th>2</th>\n",
       "      <td>1986-03-17</td>\n",
       "      <td>0.100694</td>\n",
       "      <td>0.103299</td>\n",
       "      <td>0.100694</td>\n",
       "      <td>0.102431</td>\n",
       "      <td>0.065059</td>\n",
       "      <td>133171200</td>\n",
       "      <td>1986</td>\n",
       "      <td>3</td>\n",
       "      <td>17</td>\n",
       "    </tr>\n",
       "    <tr>\n",
       "      <th>3</th>\n",
       "      <td>1986-03-18</td>\n",
       "      <td>0.102431</td>\n",
       "      <td>0.103299</td>\n",
       "      <td>0.098958</td>\n",
       "      <td>0.099826</td>\n",
       "      <td>0.063405</td>\n",
       "      <td>67766400</td>\n",
       "      <td>1986</td>\n",
       "      <td>3</td>\n",
       "      <td>18</td>\n",
       "    </tr>\n",
       "    <tr>\n",
       "      <th>4</th>\n",
       "      <td>1986-03-19</td>\n",
       "      <td>0.099826</td>\n",
       "      <td>0.100694</td>\n",
       "      <td>0.097222</td>\n",
       "      <td>0.098090</td>\n",
       "      <td>0.062302</td>\n",
       "      <td>47894400</td>\n",
       "      <td>1986</td>\n",
       "      <td>3</td>\n",
       "      <td>19</td>\n",
       "    </tr>\n",
       "  </tbody>\n",
       "</table>\n",
       "</div>"
      ],
      "text/plain": [
       "        Date      Open      High       Low     Close  Adj Close      Volume  \\\n",
       "0 1986-03-13  0.088542  0.101563  0.088542  0.097222   0.061751  1031788800   \n",
       "1 1986-03-14  0.097222  0.102431  0.097222  0.100694   0.063956   308160000   \n",
       "2 1986-03-17  0.100694  0.103299  0.100694  0.102431   0.065059   133171200   \n",
       "3 1986-03-18  0.102431  0.103299  0.098958  0.099826   0.063405    67766400   \n",
       "4 1986-03-19  0.099826  0.100694  0.097222  0.098090   0.062302    47894400   \n",
       "\n",
       "   year  month  day  \n",
       "0  1986      3   13  \n",
       "1  1986      3   14  \n",
       "2  1986      3   17  \n",
       "3  1986      3   18  \n",
       "4  1986      3   19  "
      ]
     },
     "execution_count": 8,
     "metadata": {},
     "output_type": "execute_result"
    }
   ],
   "source": [
    "df['year'] = pd.to_datetime(df['Date']).dt.year\n",
    "df['month'] = pd.to_datetime(df['Date']).dt.month\n",
    "df['day'] = pd.to_datetime(df['Date']).dt.day\n",
    "df['Date'] = pd.to_datetime(df['Date'])\n",
    "df.head()"
   ]
  },
  {
   "cell_type": "code",
   "execution_count": 9,
   "metadata": {},
   "outputs": [
    {
     "data": {
      "text/plain": [
       "Date         8857\n",
       "Open         4993\n",
       "High         4943\n",
       "Low          4959\n",
       "Close        5149\n",
       "Adj Close    6762\n",
       "Volume       8677\n",
       "year           36\n",
       "month          12\n",
       "day            31\n",
       "dtype: int64"
      ]
     },
     "execution_count": 9,
     "metadata": {},
     "output_type": "execute_result"
    }
   ],
   "source": [
    "df.nunique()"
   ]
  },
  {
   "cell_type": "markdown",
   "metadata": {},
   "source": [
    "## Data Visualisation"
   ]
  },
  {
   "cell_type": "code",
   "execution_count": 10,
   "metadata": {},
   "outputs": [
    {
     "name": "stderr",
     "output_type": "stream",
     "text": [
      "C:\\ProgramData\\Anaconda3\\lib\\site-packages\\seaborn\\_decorators.py:36: FutureWarning: Pass the following variables as keyword args: x, y. From version 0.12, the only valid positional argument will be `data`, and passing other arguments without an explicit keyword will result in an error or misinterpretation.\n",
      "  warnings.warn(\n",
      "C:\\ProgramData\\Anaconda3\\lib\\site-packages\\seaborn\\_decorators.py:36: FutureWarning: Pass the following variables as keyword args: x, y. From version 0.12, the only valid positional argument will be `data`, and passing other arguments without an explicit keyword will result in an error or misinterpretation.\n",
      "  warnings.warn(\n"
     ]
    },
    {
     "data": {
      "text/plain": [
       "<AxesSubplot:xlabel='Date', ylabel='High'>"
      ]
     },
     "execution_count": 10,
     "metadata": {},
     "output_type": "execute_result"
    },
    {
     "data": {
      "image/png": "[encoded data removed]",
      "text/plain": [
       "<Figure size 1152x432 with 2 Axes>"
      ]
     },
     "metadata": {},
     "output_type": "display_data"
    }
   ],
   "source": [
    "# check the trend of the close value every year\n",
    "plt.figure(figsize=(16,6))\n",
    "plt.subplot(1,2,1)\n",
    "sns.lineplot(df['Date'],df['Open'],hue=df['year']) #Open price\n",
    "plt.subplot(1,2,2)\n",
    "sns.lineplot(df['Date'],df['High'],hue=df['year']) #Close price"
   ]
  },
  {
   "cell_type": "code",
   "execution_count": 11,
   "metadata": {},
   "outputs": [
    {
     "name": "stderr",
     "output_type": "stream",
     "text": [
      "C:\\ProgramData\\Anaconda3\\lib\\site-packages\\seaborn\\_decorators.py:36: FutureWarning: Pass the following variables as keyword args: x, y. From version 0.12, the only valid positional argument will be `data`, and passing other arguments without an explicit keyword will result in an error or misinterpretation.\n",
      "  warnings.warn(\n"
     ]
    },
    {
     "data": {
      "text/plain": [
       "<AxesSubplot:xlabel='year', ylabel='Volume'>"
      ]
     },
     "execution_count": 11,
     "metadata": {},
     "output_type": "execute_result"
    },
    {
     "data": {
      "image/png": "[encoded data removed]",
      "text/plain": [
       "<Figure size 1152x432 with 2 Axes>"
      ]
     },
     "metadata": {},
     "output_type": "display_data"
    }
   ],
   "source": [
    "plt.figure(figsize=(16,6))\n",
    "plt.subplot(1,2,1)\n",
    "sns.lineplot(df['Date'],df['Low'],hue=df['year']) #Open price\n",
    "plt.subplot(1,2,2)\n",
    "sns.lineplot(x=\"year\",y=\"Volume\", label=\"Volume\", data=df) #Close price"
   ]
  },
  {
   "cell_type": "markdown",
   "metadata": {},
   "source": [
    "## Insights from the graph\n",
    "1. The stock prices started to rise from 1996 but took a dip in 2000 and got stable for a long period of time\n",
    "2. We can observe that the price of the stock increased sharply from 2015. As the stocks became costly, the volume decreased accordingly."
   ]
  },
  {
   "cell_type": "code",
   "execution_count": 12,
   "metadata": {},
   "outputs": [
    {
     "data": {
      "image/png": "[encoded data removed]",
      "text/plain": [
       "<Figure size 864x432 with 4 Axes>"
      ]
     },
     "metadata": {},
     "output_type": "display_data"
    }
   ],
   "source": [
    "plt.figure(figsize=(12,6))\n",
    "plt.subplot(221)\n",
    "sns.boxplot(x=df['Open'])\n",
    "plt.subplot(222)\n",
    "sns.boxplot(x=df['High'])\n",
    "plt.subplot(223)\n",
    "sns.boxplot(x=df['Low'])\n",
    "plt.subplot(224)\n",
    "sns.boxplot(x=df['Close'])\n",
    "plt.tight_layout()"
   ]
  },
  {
   "cell_type": "code",
   "execution_count": 13,
   "metadata": {},
   "outputs": [
    {
     "data": {
      "text/plain": [
       "<AxesSubplot:xlabel='Volume'>"
      ]
     },
     "execution_count": 13,
     "metadata": {},
     "output_type": "execute_result"
    },
    {
     "data": {
      "image/png": "[encoded data removed]",
      "text/plain": [
       "<Figure size 432x288 with 1 Axes>"
      ]
     },
     "metadata": {},
     "output_type": "display_data"
    }
   ],
   "source": [
    "sns.boxplot(x=df['Volume'])"
   ]
  },
  {
   "cell_type": "markdown",
   "metadata": {},
   "source": [
    "**There are a lot of outliers present in the data.**"
   ]
  },
  {
   "cell_type": "markdown",
   "metadata": {},
   "source": [
    "## Range of the data"
   ]
  },
  {
   "cell_type": "code",
   "execution_count": 14,
   "metadata": {},
   "outputs": [
    {
     "name": "stdout",
     "output_type": "stream",
     "text": [
      "The range of open is : 261.5714616626501\n",
      "The range of high is : 263.0979884415865\n",
      "The range of low is : 260.0814714282751\n",
      "The range of close is : 261.5714616626501\n"
     ]
    }
   ],
   "source": [
    "range_open=df['Open'].max()-df['Open'].min()\n",
    "print(\"The range of open is : {}\".format(range_open))\n",
    "range_high=df['High'].max()-df['High'].min()\n",
    "print(\"The range of high is : {}\".format(range_high))\n",
    "range_low=df['Low'].max()-df['Low'].min()\n",
    "print(\"The range of low is : {}\".format(range_low))\n",
    "range_close=df['Close'].max()-df['Close'].min()\n",
    "print(\"The range of close is : {}\".format(range_open))"
   ]
  },
  {
   "cell_type": "markdown",
   "metadata": {},
   "source": [
    "## Correlation of the columns"
   ]
  },
  {
   "cell_type": "code",
   "execution_count": 15,
   "metadata": {},
   "outputs": [
    {
     "data": {
      "text/plain": [
       "<AxesSubplot:>"
      ]
     },
     "execution_count": 15,
     "metadata": {},
     "output_type": "execute_result"
    },
    {
     "data": {
      "image/png": "[encoded data removed]",
      "text/plain": [
       "<Figure size 864x432 with 2 Axes>"
      ]
     },
     "metadata": {},
     "output_type": "display_data"
    }
   ],
   "source": [
    "# Correlation between every column values\n",
    "plt.figure(figsize=(12,6))\n",
    "sns.heatmap(df.corr(),annot=True)"
   ]
  },
  {
   "cell_type": "markdown",
   "metadata": {},
   "source": [
    "We see that the open ,high, low and close are largely correlated to each other.\n",
    "The prices also relate to the year column"
   ]
  },
  {
   "cell_type": "markdown",
   "metadata": {},
   "source": [
    "# Building the Model"
   ]
  },
  {
   "cell_type": "markdown",
   "metadata": {},
   "source": [
    "## We will start by predicting the close price."
   ]
  },
  {
   "cell_type": "code",
   "execution_count": 16,
   "metadata": {},
   "outputs": [],
   "source": [
    "df1 = df.reset_index()['Close']"
   ]
  },
  {
   "cell_type": "code",
   "execution_count": 17,
   "metadata": {},
   "outputs": [
    {
     "data": {
      "text/plain": [
       "[<matplotlib.lines.Line2D at 0x1365afeba30>]"
      ]
     },
     "execution_count": 17,
     "metadata": {},
     "output_type": "execute_result"
    },
    {
     "data": {
      "image/png": "[encoded data removed]",
      "text/plain": [
       "<Figure size 432x288 with 1 Axes>"
      ]
     },
     "metadata": {},
     "output_type": "display_data"
    }
   ],
   "source": [
    "plt.plot(df1)"
   ]
  },
  {
   "cell_type": "code",
   "execution_count": 18,
   "metadata": {},
   "outputs": [],
   "source": [
    "#GRU is sensitive to the scale of the data, so we apply MinMax Scalar\n",
    "from sklearn.preprocessing import MinMaxScaler\n",
    "scaler=MinMaxScaler(feature_range=(0,1))\n",
    "df1=scaler.fit_transform(np.array(df1).reshape(-1,1))"
   ]
  },
  {
   "cell_type": "code",
   "execution_count": 19,
   "metadata": {},
   "outputs": [
    {
     "name": "stdout",
     "output_type": "stream",
     "text": [
      "[[2.65159923e-05]\n",
      " [3.97739884e-05]\n",
      " [4.64067989e-05]\n",
      " ...\n",
      " [9.63876521e-01]\n",
      " [9.62616393e-01]\n",
      " [9.61394489e-01]]\n"
     ]
    }
   ],
   "source": [
    "print(df1)"
   ]
  },
  {
   "cell_type": "code",
   "execution_count": 20,
   "metadata": {},
   "outputs": [],
   "source": [
    "##splitting dataset into train and test split\n",
    "training_size=int(len(df1)*0.65)\n",
    "test_size=len(df1)-training_size\n",
    "train_data,test_data=df1[0:training_size,:],df1[training_size:len(df1),:1]"
   ]
  },
  {
   "cell_type": "code",
   "execution_count": 21,
   "metadata": {},
   "outputs": [
    {
     "data": {
      "text/plain": [
       "(5757, 3100)"
      ]
     },
     "execution_count": 21,
     "metadata": {},
     "output_type": "execute_result"
    }
   ],
   "source": [
    "len(train_data),len(test_data)"
   ]
  },
  {
   "cell_type": "code",
   "execution_count": 22,
   "metadata": {},
   "outputs": [],
   "source": [
    "import numpy\n",
    "def create_dataset(dataset, time_step=1):\n",
    "    dataX, dataY = [], []\n",
    "    for i in range(len(dataset)-time_step-1):\n",
    "        a = dataset[i:(i+time_step), 0]   ###i=0, 0,1,2,3-----99   100 \n",
    "        dataX.append(a)\n",
    "        dataY.append(dataset[i + time_step, 0])\n",
    "    return numpy.array(dataX), numpy.array(dataY)"
   ]
  },
  {
   "cell_type": "code",
   "execution_count": 23,
   "metadata": {},
   "outputs": [],
   "source": [
    "# reshape into X=t,t+1,t+2,t+3 and Y=t+4\n",
    "time_step = 100\n",
    "X_train, y_train = create_dataset(train_data, time_step)\n",
    "X_test, ytest = create_dataset(test_data, time_step)"
   ]
  },
  {
   "cell_type": "code",
   "execution_count": 24,
   "metadata": {},
   "outputs": [
    {
     "name": "stdout",
     "output_type": "stream",
     "text": [
      "(5656, 100)\n",
      "(5656,)\n"
     ]
    },
    {
     "data": {
      "text/plain": [
       "(None, None)"
      ]
     },
     "execution_count": 24,
     "metadata": {},
     "output_type": "execute_result"
    }
   ],
   "source": [
    "print(X_train.shape), print(y_train.shape)"
   ]
  },
  {
   "cell_type": "code",
   "execution_count": 25,
   "metadata": {},
   "outputs": [
    {
     "name": "stdout",
     "output_type": "stream",
     "text": [
      "(2999, 100)\n",
      "(2999,)\n"
     ]
    },
    {
     "data": {
      "text/plain": [
       "(None, None)"
      ]
     },
     "execution_count": 25,
     "metadata": {},
     "output_type": "execute_result"
    }
   ],
   "source": [
    "print(X_test.shape), print(ytest.shape)"
   ]
  },
  {
   "cell_type": "code",
   "execution_count": 26,
   "metadata": {},
   "outputs": [],
   "source": [
    "# reshape input to be [samples, time steps, features] which is required for GRU\n",
    "X_train =X_train.reshape(X_train.shape[0],X_train.shape[1] , 1)\n",
    "X_test = X_test.reshape(X_test.shape[0],X_test.shape[1] , 1)"
   ]
  },
  {
   "cell_type": "code",
   "execution_count": 27,
   "metadata": {},
   "outputs": [],
   "source": [
    "from keras.models import Sequential\n",
    "from keras.layers import Dense, LSTM, Dropout, GRU, Bidirectional\n",
    "import math\n",
    "from sklearn.metrics import mean_squared_error"
   ]
  },
  {
   "cell_type": "code",
   "execution_count": 28,
   "metadata": {},
   "outputs": [
    {
     "name": "stdout",
     "output_type": "stream",
     "text": [
      "Epoch 1/50\n",
      "38/38 [==============================] - 64s 481ms/step - loss: 0.0045\n",
      "Epoch 2/50\n",
      "38/38 [==============================] - 18s 467ms/step - loss: 0.0032\n",
      "Epoch 3/50\n",
      "38/38 [==============================] - 18s 471ms/step - loss: 0.0032\n",
      "Epoch 4/50\n",
      "38/38 [==============================] - 18s 470ms/step - loss: 0.0033\n",
      "Epoch 5/50\n",
      "38/38 [==============================] - 18s 470ms/step - loss: 0.0032\n",
      "Epoch 6/50\n",
      "38/38 [==============================] - 18s 476ms/step - loss: 0.0032\n",
      "Epoch 7/50\n",
      "38/38 [==============================] - 18s 468ms/step - loss: 0.0031\n",
      "Epoch 8/50\n",
      "38/38 [==============================] - 19s 490ms/step - loss: 0.0031\n",
      "Epoch 9/50\n",
      "38/38 [==============================] - 18s 475ms/step - loss: 0.0031\n",
      "Epoch 10/50\n",
      "38/38 [==============================] - 18s 475ms/step - loss: 0.0031\n",
      "Epoch 11/50\n",
      "38/38 [==============================] - 18s 473ms/step - loss: 0.0031\n",
      "Epoch 12/50\n",
      "38/38 [==============================] - 18s 474ms/step - loss: 0.0031\n",
      "Epoch 13/50\n",
      "38/38 [==============================] - 18s 476ms/step - loss: 0.0031\n",
      "Epoch 14/50\n",
      "38/38 [==============================] - 18s 473ms/step - loss: 0.0031\n",
      "Epoch 15/50\n",
      "38/38 [==============================] - 18s 475ms/step - loss: 0.0030\n",
      "Epoch 16/50\n",
      "38/38 [==============================] - 18s 480ms/step - loss: 0.0030\n",
      "Epoch 17/50\n",
      "38/38 [==============================] - 18s 484ms/step - loss: 0.0030\n",
      "Epoch 18/50\n",
      "38/38 [==============================] - 18s 481ms/step - loss: 0.0029\n",
      "Epoch 19/50\n",
      "38/38 [==============================] - 18s 483ms/step - loss: 0.0030\n",
      "Epoch 20/50\n",
      "38/38 [==============================] - 19s 486ms/step - loss: 0.0029\n",
      "Epoch 21/50\n",
      "38/38 [==============================] - 19s 495ms/step - loss: 0.0029\n",
      "Epoch 22/50\n",
      "38/38 [==============================] - 19s 502ms/step - loss: 0.0029\n",
      "Epoch 23/50\n",
      "38/38 [==============================] - 19s 490ms/step - loss: 0.0029\n",
      "Epoch 24/50\n",
      "38/38 [==============================] - 19s 489ms/step - loss: 0.0029\n",
      "Epoch 25/50\n",
      "38/38 [==============================] - 19s 487ms/step - loss: 0.0028\n",
      "Epoch 26/50\n",
      "38/38 [==============================] - 19s 490ms/step - loss: 0.0028\n",
      "Epoch 27/50\n",
      "38/38 [==============================] - 19s 501ms/step - loss: 0.0028\n",
      "Epoch 28/50\n",
      "38/38 [==============================] - 19s 504ms/step - loss: 0.0028\n",
      "Epoch 29/50\n",
      "38/38 [==============================] - 19s 511ms/step - loss: 0.0028\n",
      "Epoch 30/50\n",
      "38/38 [==============================] - 19s 504ms/step - loss: 0.0027\n",
      "Epoch 31/50\n",
      "38/38 [==============================] - 19s 497ms/step - loss: 0.0028\n",
      "Epoch 32/50\n",
      "38/38 [==============================] - 19s 502ms/step - loss: 0.0027\n",
      "Epoch 33/50\n",
      "38/38 [==============================] - 19s 502ms/step - loss: 0.0027\n",
      "Epoch 34/50\n",
      "38/38 [==============================] - 19s 503ms/step - loss: 0.0027\n",
      "Epoch 35/50\n",
      "38/38 [==============================] - 20s 523ms/step - loss: 0.0027\n",
      "Epoch 36/50\n",
      "38/38 [==============================] - 19s 510ms/step - loss: 0.0027\n",
      "Epoch 37/50\n",
      "38/38 [==============================] - 19s 503ms/step - loss: 0.0027\n",
      "Epoch 38/50\n",
      "38/38 [==============================] - 19s 503ms/step - loss: 0.0027\n",
      "Epoch 39/50\n",
      "38/38 [==============================] - 19s 492ms/step - loss: 0.0027\n",
      "Epoch 40/50\n",
      "38/38 [==============================] - 18s 476ms/step - loss: 0.0027\n",
      "Epoch 41/50\n",
      "38/38 [==============================] - 18s 477ms/step - loss: 0.0026\n",
      "Epoch 42/50\n",
      "38/38 [==============================] - 18s 482ms/step - loss: 0.0026\n",
      "Epoch 43/50\n",
      "38/38 [==============================] - 18s 480ms/step - loss: 0.0026\n",
      "Epoch 44/50\n",
      "38/38 [==============================] - 19s 504ms/step - loss: 0.0026\n",
      "Epoch 45/50\n",
      "38/38 [==============================] - 20s 519ms/step - loss: 0.0025\n",
      "Epoch 46/50\n",
      "38/38 [==============================] - 18s 483ms/step - loss: 0.0026\n",
      "Epoch 47/50\n",
      "38/38 [==============================] - 18s 481ms/step - loss: 0.0025\n",
      "Epoch 48/50\n",
      "38/38 [==============================] - 18s 481ms/step - loss: 0.0026\n",
      "Epoch 49/50\n",
      "38/38 [==============================] - 18s 481ms/step - loss: 0.0025\n",
      "Epoch 50/50\n",
      "38/38 [==============================] - 19s 512ms/step - loss: 0.0025\n"
     ]
    },
    {
     "data": {
      "text/plain": [
       "<keras.callbacks.History at 0x136648db910>"
      ]
     },
     "execution_count": 28,
     "metadata": {},
     "output_type": "execute_result"
    }
   ],
   "source": [
    "# The GRU architecture\n",
    "regressorGRU = Sequential()\n",
    "# First GRU layer with Dropout regularisation\n",
    "regressorGRU.add(GRU(units=50, return_sequences=True, input_shape=(X_train.shape[1],1), activation='tanh'))\n",
    "regressorGRU.add(Dropout(0.2))\n",
    "# Second GRU layer\n",
    "regressorGRU.add(GRU(units=50, return_sequences=True, input_shape=(X_train.shape[1],1), activation='tanh'))\n",
    "regressorGRU.add(Dropout(0.2))\n",
    "# Third GRU layer\n",
    "regressorGRU.add(GRU(units=50, return_sequences=True, input_shape=(X_train.shape[1],1), activation='tanh'))\n",
    "regressorGRU.add(Dropout(0.2))\n",
    "# Fourth GRU layer\n",
    "regressorGRU.add(GRU(units=50, activation='tanh'))\n",
    "regressorGRU.add(Dropout(0.2))\n",
    "# The output layer\n",
    "regressorGRU.add(Dense(units=1))\n",
    "# Compiling the RNN\n",
    "regressorGRU.compile(optimizer='SGD',loss='mean_squared_error')\n",
    "# Fitting to the training set\n",
    "regressorGRU.fit(X_train,y_train,epochs=50,batch_size=150)"
   ]
  },
  {
   "cell_type": "code",
   "execution_count": 30,
   "metadata": {},
   "outputs": [],
   "source": [
    "### Lets Do the prediction and check performance metrics\n",
    "train_predict=regressorGRU.predict(X_train)\n",
    "test_predict=regressorGRU.predict(X_test)"
   ]
  },
  {
   "cell_type": "code",
   "execution_count": 31,
   "metadata": {},
   "outputs": [],
   "source": [
    "##Transformback to original form\n",
    "train_predict=scaler.inverse_transform(train_predict)\n",
    "test_predict=scaler.inverse_transform(test_predict)"
   ]
  },
  {
   "cell_type": "code",
   "execution_count": 32,
   "metadata": {},
   "outputs": [
    {
     "data": {
      "text/plain": [
       "16.42159548813016"
      ]
     },
     "execution_count": 32,
     "metadata": {},
     "output_type": "execute_result"
    }
   ],
   "source": [
    "### Calculate RMSE performance metrics\n",
    "import math\n",
    "from sklearn.metrics import mean_squared_error\n",
    "math.sqrt(mean_squared_error(y_train,train_predict))"
   ]
  },
  {
   "cell_type": "code",
   "execution_count": 33,
   "metadata": {},
   "outputs": [
    {
     "data": {
      "text/plain": [
       "21.69687459661186"
      ]
     },
     "execution_count": 33,
     "metadata": {},
     "output_type": "execute_result"
    }
   ],
   "source": [
    "### Test Data RMSE\n",
    "math.sqrt(mean_squared_error(ytest,test_predict))"
   ]
  },
  {
   "cell_type": "markdown",
   "metadata": {},
   "source": [
    "The difference between the train data RMSE and the Test data RMSE is very less. Hence, our model has performed well."
   ]
  },
  {
   "cell_type": "code",
   "execution_count": 39,
   "metadata": {},
   "outputs": [
    {
     "data": {
      "text/plain": [
       "[<matplotlib.lines.Line2D at 0x1367b1a87f0>]"
      ]
     },
     "execution_count": 39,
     "metadata": {},
     "output_type": "execute_result"
    },
    {
     "data": {
      "image/png": "[encoded data removed]",
      "text/plain": [
       "<Figure size 432x288 with 1 Axes>"
      ]
     },
     "metadata": {},
     "output_type": "display_data"
    }
   ],
   "source": [
    "#plotting the predictions\n",
    "plt.plot(y_train,train_predict)\n",
    "plt.plot(ytest,test_predict)"
   ]
  },
  {
   "cell_type": "markdown",
   "metadata": {},
   "source": [
    "## Now we will build a model for High prices."
   ]
  },
  {
   "cell_type": "code",
   "execution_count": 40,
   "metadata": {},
   "outputs": [],
   "source": [
    "df2 = df.reset_index()['High']"
   ]
  },
  {
   "cell_type": "code",
   "execution_count": 41,
   "metadata": {},
   "outputs": [
    {
     "data": {
      "text/plain": [
       "[<matplotlib.lines.Line2D at 0x13676d76880>]"
      ]
     },
     "execution_count": 41,
     "metadata": {},
     "output_type": "execute_result"
    },
    {
     "data": {
      "image/png": "[encoded data removed]",
      "text/plain": [
       "<Figure size 432x288 with 1 Axes>"
      ]
     },
     "metadata": {},
     "output_type": "display_data"
    }
   ],
   "source": [
    "plt.plot(df2)"
   ]
  },
  {
   "cell_type": "code",
   "execution_count": 42,
   "metadata": {},
   "outputs": [],
   "source": [
    "#GRU is sensitive to the scale of the data, so we apply MinMax Scalar\n",
    "from sklearn.preprocessing import MinMaxScaler\n",
    "scaler=MinMaxScaler(feature_range=(0,1))\n",
    "df2=scaler.fit_transform(np.array(df2).reshape(-1,1))"
   ]
  },
  {
   "cell_type": "code",
   "execution_count": 43,
   "metadata": {},
   "outputs": [],
   "source": [
    "##splitting dataset into train and test split\n",
    "training_size=int(len(df2)*0.65)\n",
    "test_size=len(df2)-training_size\n",
    "train_data,test_data=df2[0:training_size,:],df2[training_size:len(df2),:1]"
   ]
  },
  {
   "cell_type": "code",
   "execution_count": 44,
   "metadata": {},
   "outputs": [],
   "source": [
    "import numpy\n",
    "def create_dataset(dataset, time_step=1):\n",
    "    dataX, dataY = [], []\n",
    "    for i in range(len(dataset)-time_step-1):\n",
    "        a = dataset[i:(i+time_step), 0]   ###i=0, 0,1,2,3-----99   100 \n",
    "        dataX.append(a)\n",
    "        dataY.append(dataset[i + time_step, 0])\n",
    "    return numpy.array(dataX), numpy.array(dataY)"
   ]
  },
  {
   "cell_type": "code",
   "execution_count": 45,
   "metadata": {},
   "outputs": [],
   "source": [
    "# reshape into X=t,t+1,t+2,t+3 and Y=t+4\n",
    "time_step = 100\n",
    "X_train, y_train = create_dataset(train_data, time_step)\n",
    "X_test, ytest = create_dataset(test_data, time_step)"
   ]
  },
  {
   "cell_type": "code",
   "execution_count": 46,
   "metadata": {},
   "outputs": [
    {
     "name": "stdout",
     "output_type": "stream",
     "text": [
      "(5656, 100)\n",
      "(5656,)\n"
     ]
    },
    {
     "data": {
      "text/plain": [
       "(None, None)"
      ]
     },
     "execution_count": 46,
     "metadata": {},
     "output_type": "execute_result"
    }
   ],
   "source": [
    "print(X_train.shape), print(y_train.shape)"
   ]
  },
  {
   "cell_type": "code",
   "execution_count": 47,
   "metadata": {},
   "outputs": [
    {
     "name": "stdout",
     "output_type": "stream",
     "text": [
      "(2999, 100)\n",
      "(2999,)\n"
     ]
    },
    {
     "data": {
      "text/plain": [
       "(None, None)"
      ]
     },
     "execution_count": 47,
     "metadata": {},
     "output_type": "execute_result"
    }
   ],
   "source": [
    "print(X_test.shape), print(ytest.shape)"
   ]
  },
  {
   "cell_type": "code",
   "execution_count": 48,
   "metadata": {},
   "outputs": [],
   "source": [
    "# reshape input to be [samples, time steps, features] which is required for GRU\n",
    "X_train =X_train.reshape(X_train.shape[0],X_train.shape[1] , 1)\n",
    "X_test = X_test.reshape(X_test.shape[0],X_test.shape[1] , 1)"
   ]
  },
  {
   "cell_type": "code",
   "execution_count": 49,
   "metadata": {},
   "outputs": [
    {
     "name": "stdout",
     "output_type": "stream",
     "text": [
      "Epoch 1/50\n",
      "38/38 [==============================] - 35s 531ms/step - loss: 0.0043\n",
      "Epoch 2/50\n",
      "38/38 [==============================] - 21s 550ms/step - loss: 0.0029\n",
      "Epoch 3/50\n",
      "38/38 [==============================] - 21s 550ms/step - loss: 0.0029\n",
      "Epoch 4/50\n",
      "38/38 [==============================] - 21s 547ms/step - loss: 0.0029\n",
      "Epoch 5/50\n",
      "38/38 [==============================] - 21s 549ms/step - loss: 0.0029\n",
      "Epoch 6/50\n",
      "38/38 [==============================] - 18s 481ms/step - loss: 0.0030\n",
      "Epoch 7/50\n",
      "38/38 [==============================] - 18s 478ms/step - loss: 0.0029\n",
      "Epoch 8/50\n",
      "38/38 [==============================] - 18s 481ms/step - loss: 0.0029\n",
      "Epoch 9/50\n",
      "38/38 [==============================] - 18s 479ms/step - loss: 0.0029\n",
      "Epoch 10/50\n",
      "38/38 [==============================] - 18s 483ms/step - loss: 0.0029\n",
      "Epoch 11/50\n",
      "38/38 [==============================] - 18s 479ms/step - loss: 0.0028\n",
      "Epoch 12/50\n",
      "38/38 [==============================] - 19s 503ms/step - loss: 0.0028\n",
      "Epoch 13/50\n",
      "38/38 [==============================] - 18s 487ms/step - loss: 0.0028\n",
      "Epoch 14/50\n",
      "38/38 [==============================] - 19s 487ms/step - loss: 0.0027\n",
      "Epoch 15/50\n",
      "38/38 [==============================] - 18s 478ms/step - loss: 0.0028\n",
      "Epoch 16/50\n",
      "38/38 [==============================] - 19s 489ms/step - loss: 0.0028\n",
      "Epoch 17/50\n",
      "38/38 [==============================] - 20s 530ms/step - loss: 0.0027\n",
      "Epoch 18/50\n",
      "38/38 [==============================] - 19s 490ms/step - loss: 0.0027\n",
      "Epoch 19/50\n",
      "38/38 [==============================] - 19s 487ms/step - loss: 0.0027\n",
      "Epoch 20/50\n",
      "38/38 [==============================] - 19s 488ms/step - loss: 0.0027\n",
      "Epoch 21/50\n",
      "38/38 [==============================] - 19s 487ms/step - loss: 0.0027\n",
      "Epoch 22/50\n",
      "38/38 [==============================] - 19s 488ms/step - loss: 0.0027\n",
      "Epoch 23/50\n",
      "38/38 [==============================] - 21s 548ms/step - loss: 0.0027\n",
      "Epoch 24/50\n",
      "38/38 [==============================] - 20s 514ms/step - loss: 0.0026\n",
      "Epoch 25/50\n",
      "38/38 [==============================] - 20s 517ms/step - loss: 0.0027\n",
      "Epoch 26/50\n",
      "38/38 [==============================] - 20s 528ms/step - loss: 0.0027\n",
      "Epoch 27/50\n",
      "38/38 [==============================] - 20s 524ms/step - loss: 0.0026\n",
      "Epoch 28/50\n",
      "38/38 [==============================] - 19s 492ms/step - loss: 0.0026\n",
      "Epoch 29/50\n",
      "38/38 [==============================] - 19s 495ms/step - loss: 0.0026\n",
      "Epoch 30/50\n",
      "38/38 [==============================] - 19s 490ms/step - loss: 0.0026\n",
      "Epoch 31/50\n",
      "38/38 [==============================] - 19s 488ms/step - loss: 0.0025\n",
      "Epoch 32/50\n",
      "38/38 [==============================] - 19s 490ms/step - loss: 0.0026\n",
      "Epoch 33/50\n",
      "38/38 [==============================] - 19s 490ms/step - loss: 0.0025\n",
      "Epoch 34/50\n",
      "38/38 [==============================] - 19s 490ms/step - loss: 0.0025\n",
      "Epoch 35/50\n",
      "38/38 [==============================] - 19s 489ms/step - loss: 0.0025\n",
      "Epoch 36/50\n",
      "38/38 [==============================] - 19s 492ms/step - loss: 0.0025\n",
      "Epoch 37/50\n",
      "38/38 [==============================] - 19s 492ms/step - loss: 0.0025\n",
      "Epoch 38/50\n",
      "38/38 [==============================] - 19s 494ms/step - loss: 0.0025\n",
      "Epoch 39/50\n",
      "38/38 [==============================] - 19s 491ms/step - loss: 0.0025\n",
      "Epoch 40/50\n",
      "38/38 [==============================] - 19s 492ms/step - loss: 0.0025\n",
      "Epoch 41/50\n",
      "38/38 [==============================] - 19s 494ms/step - loss: 0.0024\n",
      "Epoch 42/50\n",
      "38/38 [==============================] - 19s 490ms/step - loss: 0.0025\n",
      "Epoch 43/50\n",
      "38/38 [==============================] - 19s 497ms/step - loss: 0.0024\n",
      "Epoch 44/50\n",
      "38/38 [==============================] - 19s 487ms/step - loss: 0.0024\n",
      "Epoch 45/50\n",
      "38/38 [==============================] - 19s 496ms/step - loss: 0.0025\n",
      "Epoch 46/50\n",
      "38/38 [==============================] - 19s 492ms/step - loss: 0.0024\n",
      "Epoch 47/50\n",
      "38/38 [==============================] - 19s 499ms/step - loss: 0.0024\n",
      "Epoch 48/50\n",
      "38/38 [==============================] - 19s 494ms/step - loss: 0.0023\n",
      "Epoch 49/50\n",
      "38/38 [==============================] - 19s 493ms/step - loss: 0.0023\n",
      "Epoch 50/50\n",
      "38/38 [==============================] - 19s 495ms/step - loss: 0.0023\n"
     ]
    },
    {
     "data": {
      "text/plain": [
       "<keras.callbacks.History at 0x1367c345310>"
      ]
     },
     "execution_count": 49,
     "metadata": {},
     "output_type": "execute_result"
    }
   ],
   "source": [
    "# The GRU architecture\n",
    "regressorGRU = Sequential()\n",
    "# First GRU layer with Dropout regularisation\n",
    "regressorGRU.add(GRU(units=50, return_sequences=True, input_shape=(X_train.shape[1],1), activation='tanh'))\n",
    "regressorGRU.add(Dropout(0.2))\n",
    "# Second GRU layer\n",
    "regressorGRU.add(GRU(units=50, return_sequences=True, input_shape=(X_train.shape[1],1), activation='tanh'))\n",
    "regressorGRU.add(Dropout(0.2))\n",
    "# Third GRU layer\n",
    "regressorGRU.add(GRU(units=50, return_sequences=True, input_shape=(X_train.shape[1],1), activation='tanh'))\n",
    "regressorGRU.add(Dropout(0.2))\n",
    "# Fourth GRU layer\n",
    "regressorGRU.add(GRU(units=50, activation='tanh'))\n",
    "regressorGRU.add(Dropout(0.2))\n",
    "# The output layer\n",
    "regressorGRU.add(Dense(units=1))\n",
    "# Compiling the RNN\n",
    "regressorGRU.compile(optimizer='SGD',loss='mean_squared_error')\n",
    "# Fitting to the training set\n",
    "regressorGRU.fit(X_train,y_train,epochs=50,batch_size=150)"
   ]
  },
  {
   "cell_type": "code",
   "execution_count": 74,
   "metadata": {},
   "outputs": [],
   "source": [
    "### Lets Do the prediction and check performance metrics\n",
    "train_predict_high=regressorGRU.predict(X_train)\n",
    "test_predict_high=regressorGRU.predict(X_test)"
   ]
  },
  {
   "cell_type": "code",
   "execution_count": 75,
   "metadata": {},
   "outputs": [],
   "source": [
    "##Transformback to original form\n",
    "train_predict_high=scaler.inverse_transform(train_predict_high)\n",
    "test_predict_high=scaler.inverse_transform(test_predict_high)"
   ]
  },
  {
   "cell_type": "code",
   "execution_count": 76,
   "metadata": {},
   "outputs": [
    {
     "data": {
      "text/plain": [
       "16.090073065332387"
      ]
     },
     "execution_count": 76,
     "metadata": {},
     "output_type": "execute_result"
    }
   ],
   "source": [
    "### Calculate RMSE performance metrics\n",
    "import math\n",
    "from sklearn.metrics import mean_squared_error\n",
    "math.sqrt(mean_squared_error(y_train,train_predict_high))"
   ]
  },
  {
   "cell_type": "code",
   "execution_count": 77,
   "metadata": {},
   "outputs": [
    {
     "data": {
      "text/plain": [
       "28.727486916127752"
      ]
     },
     "execution_count": 77,
     "metadata": {},
     "output_type": "execute_result"
    }
   ],
   "source": [
    "### Test Data RMSE\n",
    "math.sqrt(mean_squared_error(ytest,test_predict_high))"
   ]
  },
  {
   "cell_type": "code",
   "execution_count": 78,
   "metadata": {},
   "outputs": [
    {
     "data": {
      "text/plain": [
       "[<matplotlib.lines.Line2D at 0x206966383a0>]"
      ]
     },
     "execution_count": 78,
     "metadata": {},
     "output_type": "execute_result"
    },
    {
     "data": {
      "image/png": "[encoded data removed]",
      "text/plain": [
       "<Figure size 432x288 with 1 Axes>"
      ]
     },
     "metadata": {},
     "output_type": "display_data"
    }
   ],
   "source": [
    "#plotting the predictions\n",
    "plt.plot(y_train,train_predict_high)\n",
    "plt.plot(ytest,test_predict_high)"
   ]
  },
  {
   "cell_type": "markdown",
   "metadata": {},
   "source": [
    "## Building a model for Low Prices"
   ]
  },
  {
   "cell_type": "code",
   "execution_count": 57,
   "metadata": {},
   "outputs": [],
   "source": [
    "df3 = df.reset_index()['Low']"
   ]
  },
  {
   "cell_type": "code",
   "execution_count": 58,
   "metadata": {},
   "outputs": [
    {
     "data": {
      "text/plain": [
       "[<matplotlib.lines.Line2D at 0x13606152c40>]"
      ]
     },
     "execution_count": 58,
     "metadata": {},
     "output_type": "execute_result"
    },
    {
     "data": {
      "image/png": "[encoded data removed]",
      "text/plain": [
       "<Figure size 432x288 with 1 Axes>"
      ]
     },
     "metadata": {},
     "output_type": "display_data"
    }
   ],
   "source": [
    "plt.plot(df3)"
   ]
  },
  {
   "cell_type": "code",
   "execution_count": 59,
   "metadata": {},
   "outputs": [],
   "source": [
    "#GRU is sensitive to the scale of the data, so we apply MinMax Scalar\n",
    "from sklearn.preprocessing import MinMaxScaler\n",
    "scaler=MinMaxScaler(feature_range=(0,1))\n",
    "df3=scaler.fit_transform(np.array(df3).reshape(-1,1))"
   ]
  },
  {
   "cell_type": "code",
   "execution_count": 60,
   "metadata": {},
   "outputs": [],
   "source": [
    "##splitting dataset into train and test split\n",
    "training_size=int(len(df3)*0.65)\n",
    "test_size=len(df3)-training_size\n",
    "train_data,test_data=df3[0:training_size,:],df3[training_size:len(df2),:1]"
   ]
  },
  {
   "cell_type": "code",
   "execution_count": 61,
   "metadata": {},
   "outputs": [],
   "source": [
    "# reshape into X=t,t+1,t+2,t+3 and Y=t+4\n",
    "time_step = 100\n",
    "X_train, y_train = create_dataset(train_data, time_step)\n",
    "X_test, ytest = create_dataset(test_data, time_step)"
   ]
  },
  {
   "cell_type": "code",
   "execution_count": 62,
   "metadata": {},
   "outputs": [
    {
     "name": "stdout",
     "output_type": "stream",
     "text": [
      "(5656, 100)\n",
      "(5656,)\n"
     ]
    },
    {
     "data": {
      "text/plain": [
       "(None, None)"
      ]
     },
     "execution_count": 62,
     "metadata": {},
     "output_type": "execute_result"
    }
   ],
   "source": [
    "print(X_train.shape),print(y_train.shape)"
   ]
  },
  {
   "cell_type": "code",
   "execution_count": 63,
   "metadata": {},
   "outputs": [
    {
     "name": "stdout",
     "output_type": "stream",
     "text": [
      "(2999, 100)\n",
      "(2999,)\n"
     ]
    },
    {
     "data": {
      "text/plain": [
       "(None, None)"
      ]
     },
     "execution_count": 63,
     "metadata": {},
     "output_type": "execute_result"
    }
   ],
   "source": [
    "print(X_test.shape),print(ytest.shape)"
   ]
  },
  {
   "cell_type": "code",
   "execution_count": 64,
   "metadata": {},
   "outputs": [],
   "source": [
    "# reshape input to be [samples, time steps, features] which is required for GRU\n",
    "X_train =X_train.reshape(X_train.shape[0],X_train.shape[1] , 1)\n",
    "X_test = X_test.reshape(X_test.shape[0],X_test.shape[1] , 1)"
   ]
  },
  {
   "cell_type": "code",
   "execution_count": 65,
   "metadata": {},
   "outputs": [
    {
     "name": "stdout",
     "output_type": "stream",
     "text": [
      "Epoch 1/50\n",
      "38/38 [==============================] - 30s 479ms/step - loss: 0.0038\n",
      "Epoch 2/50\n",
      "38/38 [==============================] - 20s 516ms/step - loss: 0.0026\n",
      "Epoch 3/50\n",
      "38/38 [==============================] - 20s 518ms/step - loss: 0.0026\n",
      "Epoch 4/50\n",
      "38/38 [==============================] - 20s 520ms/step - loss: 0.0025\n",
      "Epoch 5/50\n",
      "38/38 [==============================] - 20s 515ms/step - loss: 0.0025\n",
      "Epoch 6/50\n",
      "38/38 [==============================] - 20s 517ms/step - loss: 0.0026\n",
      "Epoch 7/50\n",
      "38/38 [==============================] - 20s 519ms/step - loss: 0.0025\n",
      "Epoch 8/50\n",
      "38/38 [==============================] - 20s 524ms/step - loss: 0.0025\n",
      "Epoch 9/50\n",
      "38/38 [==============================] - 21s 561ms/step - loss: 0.0024\n",
      "Epoch 10/50\n",
      "38/38 [==============================] - 20s 520ms/step - loss: 0.0024\n",
      "Epoch 11/50\n",
      "38/38 [==============================] - 20s 530ms/step - loss: 0.0024\n",
      "Epoch 12/50\n",
      "38/38 [==============================] - 20s 528ms/step - loss: 0.0023\n",
      "Epoch 13/50\n",
      "38/38 [==============================] - 20s 522ms/step - loss: 0.0024\n",
      "Epoch 14/50\n",
      "38/38 [==============================] - 20s 523ms/step - loss: 0.0023\n",
      "Epoch 15/50\n",
      "38/38 [==============================] - 20s 532ms/step - loss: 0.0023\n",
      "Epoch 16/50\n",
      "38/38 [==============================] - 20s 539ms/step - loss: 0.0023\n",
      "Epoch 17/50\n",
      "38/38 [==============================] - 21s 559ms/step - loss: 0.0023\n",
      "Epoch 18/50\n",
      "38/38 [==============================] - 20s 518ms/step - loss: 0.0022\n",
      "Epoch 19/50\n",
      "38/38 [==============================] - 20s 524ms/step - loss: 0.0022\n",
      "Epoch 20/50\n",
      "38/38 [==============================] - 20s 517ms/step - loss: 0.0022\n",
      "Epoch 21/50\n",
      "38/38 [==============================] - 20s 519ms/step - loss: 0.0022\n",
      "Epoch 22/50\n",
      "38/38 [==============================] - 20s 517ms/step - loss: 0.0022\n",
      "Epoch 23/50\n",
      "38/38 [==============================] - 20s 522ms/step - loss: 0.0021\n",
      "Epoch 24/50\n",
      "38/38 [==============================] - 20s 520ms/step - loss: 0.0022\n",
      "Epoch 25/50\n",
      "38/38 [==============================] - 20s 517ms/step - loss: 0.0021\n",
      "Epoch 26/50\n",
      "38/38 [==============================] - 20s 524ms/step - loss: 0.0021\n",
      "Epoch 27/50\n",
      "38/38 [==============================] - 20s 531ms/step - loss: 0.0020\n",
      "Epoch 28/50\n",
      "38/38 [==============================] - 20s 519ms/step - loss: 0.0021\n",
      "Epoch 29/50\n",
      "38/38 [==============================] - 20s 520ms/step - loss: 0.0020\n",
      "Epoch 30/50\n",
      "38/38 [==============================] - 20s 518ms/step - loss: 0.0020\n",
      "Epoch 31/50\n",
      "38/38 [==============================] - 19s 513ms/step - loss: 0.0020\n",
      "Epoch 32/50\n",
      "38/38 [==============================] - 20s 519ms/step - loss: 0.0020\n",
      "Epoch 33/50\n",
      "38/38 [==============================] - 21s 566ms/step - loss: 0.0019\n",
      "Epoch 34/50\n",
      "38/38 [==============================] - 19s 511ms/step - loss: 0.0019\n",
      "Epoch 35/50\n",
      "38/38 [==============================] - 20s 512ms/step - loss: 0.0020\n",
      "Epoch 36/50\n",
      "38/38 [==============================] - 19s 511ms/step - loss: 0.0019\n",
      "Epoch 37/50\n",
      "38/38 [==============================] - 19s 506ms/step - loss: 0.0018\n",
      "Epoch 38/50\n",
      "38/38 [==============================] - 19s 511ms/step - loss: 0.0018\n",
      "Epoch 39/50\n",
      "38/38 [==============================] - 20s 517ms/step - loss: 0.0018\n",
      "Epoch 40/50\n",
      "38/38 [==============================] - 20s 516ms/step - loss: 0.0018\n",
      "Epoch 41/50\n",
      "38/38 [==============================] - 20s 517ms/step - loss: 0.0018\n",
      "Epoch 42/50\n",
      "38/38 [==============================] - 20s 517ms/step - loss: 0.0018\n",
      "Epoch 43/50\n",
      "38/38 [==============================] - 20s 513ms/step - loss: 0.0018\n",
      "Epoch 44/50\n",
      "38/38 [==============================] - 20s 515ms/step - loss: 0.0017\n",
      "Epoch 45/50\n",
      "38/38 [==============================] - 20s 514ms/step - loss: 0.0018\n",
      "Epoch 46/50\n",
      "38/38 [==============================] - 21s 548ms/step - loss: 0.0017\n",
      "Epoch 47/50\n",
      "38/38 [==============================] - 20s 522ms/step - loss: 0.0017\n",
      "Epoch 48/50\n",
      "38/38 [==============================] - 20s 527ms/step - loss: 0.0017\n",
      "Epoch 49/50\n",
      "38/38 [==============================] - 19s 512ms/step - loss: 0.0017\n",
      "Epoch 50/50\n",
      "38/38 [==============================] - 19s 510ms/step - loss: 0.0016\n"
     ]
    },
    {
     "data": {
      "text/plain": [
       "<keras.callbacks.History at 0x1360a383b80>"
      ]
     },
     "execution_count": 65,
     "metadata": {},
     "output_type": "execute_result"
    }
   ],
   "source": [
    "# The GRU architecture\n",
    "regressorGRU = Sequential()\n",
    "# First GRU layer with Dropout regularisation\n",
    "regressorGRU.add(GRU(units=50, return_sequences=True, input_shape=(X_train.shape[1],1), activation='tanh'))\n",
    "regressorGRU.add(Dropout(0.2))\n",
    "# Second GRU layer\n",
    "regressorGRU.add(GRU(units=50, return_sequences=True, input_shape=(X_train.shape[1],1), activation='tanh'))\n",
    "regressorGRU.add(Dropout(0.2))\n",
    "# Third GRU layer\n",
    "regressorGRU.add(GRU(units=50, return_sequences=True, input_shape=(X_train.shape[1],1), activation='tanh'))\n",
    "regressorGRU.add(Dropout(0.2))\n",
    "# Fourth GRU layer\n",
    "regressorGRU.add(GRU(units=50, activation='tanh'))\n",
    "regressorGRU.add(Dropout(0.2))\n",
    "# The output layer\n",
    "regressorGRU.add(Dense(units=1))\n",
    "# Compiling the RNN\n",
    "regressorGRU.compile(optimizer='SGD',loss='mean_squared_error')\n",
    "# Fitting to the training set\n",
    "regressorGRU.fit(X_train,y_train,epochs=50,batch_size=150)"
   ]
  },
  {
   "cell_type": "code",
   "execution_count": 89,
   "metadata": {},
   "outputs": [],
   "source": [
    "### Lets Do the prediction and check performance metrics\n",
    "train_predict_low=regressorGRU.predict(X_train)\n",
    "test_predict_low=regressorGRU.predict(X_test)"
   ]
  },
  {
   "cell_type": "code",
   "execution_count": 90,
   "metadata": {},
   "outputs": [],
   "source": [
    "##Transformback to original form\n",
    "train_predict_low=scaler.inverse_transform(train_predict_low)\n",
    "test_predict_low=scaler.inverse_transform(test_predict_low)"
   ]
  },
  {
   "cell_type": "code",
   "execution_count": 91,
   "metadata": {},
   "outputs": [
    {
     "data": {
      "text/plain": [
       "16.090073065332387"
      ]
     },
     "execution_count": 91,
     "metadata": {},
     "output_type": "execute_result"
    }
   ],
   "source": [
    "### Calculate RMSE performance metrics\n",
    "import math\n",
    "from sklearn.metrics import mean_squared_error\n",
    "math.sqrt(mean_squared_error(y_train,train_predict_low))"
   ]
  },
  {
   "cell_type": "code",
   "execution_count": 92,
   "metadata": {},
   "outputs": [
    {
     "data": {
      "text/plain": [
       "28.727486916127752"
      ]
     },
     "execution_count": 92,
     "metadata": {},
     "output_type": "execute_result"
    }
   ],
   "source": [
    "### Test Data RMSE\n",
    "math.sqrt(mean_squared_error(ytest,test_predict_low))"
   ]
  },
  {
   "cell_type": "code",
   "execution_count": 73,
   "metadata": {},
   "outputs": [
    {
     "data": {
      "text/plain": [
       "[<matplotlib.lines.Line2D at 0x206965e4550>]"
      ]
     },
     "execution_count": 73,
     "metadata": {},
     "output_type": "execute_result"
    },
    {
     "data": {
      "image/png": "[encoded data removed]",
      "text/plain": [
       "<Figure size 432x288 with 1 Axes>"
      ]
     },
     "metadata": {},
     "output_type": "display_data"
    }
   ],
   "source": [
    "#plotting the predictions\n",
    "plt.plot(y_train,train_predict_low)\n",
    "plt.plot(ytest,test_predict_low)"
   ]
  },
  {
   "cell_type": "markdown",
   "metadata": {},
   "source": [
    "# Thank you!"
   ]
  }
 ],
 "metadata": {
  "kernelspec": {
   "display_name": "Python 3",
   "language": "python",
   "name": "python3"
  },
  "language_info": {
   "codemirror_mode": {
    "name": "ipython",
    "version": 3
   },
   "file_extension": ".py",
   "mimetype": "text/x-python",
   "name": "python",
   "nbconvert_exporter": "python",
   "pygments_lexer": "ipython3",
   "version": "3.8.8"
  }
 },
 "nbformat": 4,
 "nbformat_minor": 4
}
